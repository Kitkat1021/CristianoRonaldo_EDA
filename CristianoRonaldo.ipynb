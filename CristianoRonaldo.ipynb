{
  "nbformat": 4,
  "nbformat_minor": 0,
  "metadata": {
    "kernelspec": {
      "display_name": "Python 3",
      "language": "python",
      "name": "python3"
    },
    "language_info": {
      "codemirror_mode": {
        "name": "ipython",
        "version": 3
      },
      "file_extension": ".py",
      "mimetype": "text/x-python",
      "name": "python",
      "nbconvert_exporter": "python",
      "pygments_lexer": "ipython3",
      "version": "3.7.1"
    },
    "colab": {
      "name": "CristianoRonaldo.ipynb",
      "provenance": [],
      "include_colab_link": true
    }
  },
  "cells": [
    {
      "cell_type": "markdown",
      "metadata": {
        "id": "view-in-github",
        "colab_type": "text"
      },
      "source": [
        "<a href=\"https://colab.research.google.com/github/Kitkat1021/CristianoRonaldo_EDA/blob/main/CristianoRonaldo.ipynb\" target=\"_parent\"><img src=\"https://colab.research.google.com/assets/colab-badge.svg\" alt=\"Open In Colab\"/></a>"
      ]
    },
    {
      "cell_type": "code",
      "metadata": {
        "id": "4GjqsTFR0VsP"
      },
      "source": [
        "# importing the necessary libraries\n",
        "import pandas as pd\n",
        "import numpy as np\n",
        "\n",
        "import random\n",
        "import warnings\n",
        "warnings.filterwarnings('ignore')\n",
        "\n",
        "\n",
        "from sklearn.model_selection import train_test_split\n",
        "from sklearn.metrics import mean_absolute_error"
      ],
      "execution_count": 1,
      "outputs": []
    },
    {
      "cell_type": "code",
      "metadata": {
        "id": "sFGpie--0VsS"
      },
      "source": [
        "data = pd.read_csv(\"yds_data.csv\") # reading data from the CSV file"
      ],
      "execution_count": 2,
      "outputs": []
    },
    {
      "cell_type": "code",
      "metadata": {
        "colab": {
          "base_uri": "https://localhost:8080/"
        },
        "id": "004OCFWv0VsT",
        "outputId": "52dfd10c-5acf-4792-c401-b83cf22ac6aa"
      },
      "source": [
        "data.shape # checking how many rows and columns are in the data"
      ],
      "execution_count": 3,
      "outputs": [
        {
          "output_type": "execute_result",
          "data": {
            "text/plain": [
              "(30697, 28)"
            ]
          },
          "metadata": {
            "tags": []
          },
          "execution_count": 3
        }
      ]
    },
    {
      "cell_type": "code",
      "metadata": {
        "colab": {
          "base_uri": "https://localhost:8080/",
          "height": 317
        },
        "id": "tlSG7AI70VsU",
        "outputId": "f421f05c-c70a-417d-97a0-ea8e0ff63033"
      },
      "source": [
        "data.head() # seeing how the data looks like"
      ],
      "execution_count": 4,
      "outputs": [
        {
          "output_type": "execute_result",
          "data": {
            "text/html": [
              "<div>\n",
              "<style scoped>\n",
              "    .dataframe tbody tr th:only-of-type {\n",
              "        vertical-align: middle;\n",
              "    }\n",
              "\n",
              "    .dataframe tbody tr th {\n",
              "        vertical-align: top;\n",
              "    }\n",
              "\n",
              "    .dataframe thead th {\n",
              "        text-align: right;\n",
              "    }\n",
              "</style>\n",
              "<table border=\"1\" class=\"dataframe\">\n",
              "  <thead>\n",
              "    <tr style=\"text-align: right;\">\n",
              "      <th></th>\n",
              "      <th>Unnamed: 0</th>\n",
              "      <th>match_event_id</th>\n",
              "      <th>location_x</th>\n",
              "      <th>location_y</th>\n",
              "      <th>remaining_min</th>\n",
              "      <th>power_of_shot</th>\n",
              "      <th>knockout_match</th>\n",
              "      <th>game_season</th>\n",
              "      <th>remaining_sec</th>\n",
              "      <th>distance_of_shot</th>\n",
              "      <th>is_goal</th>\n",
              "      <th>area_of_shot</th>\n",
              "      <th>shot_basics</th>\n",
              "      <th>range_of_shot</th>\n",
              "      <th>team_name</th>\n",
              "      <th>date_of_game</th>\n",
              "      <th>home/away</th>\n",
              "      <th>shot_id_number</th>\n",
              "      <th>lat/lng</th>\n",
              "      <th>type_of_shot</th>\n",
              "      <th>type_of_combined_shot</th>\n",
              "      <th>match_id</th>\n",
              "      <th>team_id</th>\n",
              "      <th>remaining_min.1</th>\n",
              "      <th>power_of_shot.1</th>\n",
              "      <th>knockout_match.1</th>\n",
              "      <th>remaining_sec.1</th>\n",
              "      <th>distance_of_shot.1</th>\n",
              "    </tr>\n",
              "  </thead>\n",
              "  <tbody>\n",
              "    <tr>\n",
              "      <th>0</th>\n",
              "      <td>0</td>\n",
              "      <td>10.0</td>\n",
              "      <td>167.0</td>\n",
              "      <td>72.0</td>\n",
              "      <td>10.0</td>\n",
              "      <td>1.0</td>\n",
              "      <td>0.0</td>\n",
              "      <td>2000-01</td>\n",
              "      <td>27.0</td>\n",
              "      <td>38.0</td>\n",
              "      <td>NaN</td>\n",
              "      <td>Right Side(R)</td>\n",
              "      <td>Mid Range</td>\n",
              "      <td>16-24 ft.</td>\n",
              "      <td>Manchester United</td>\n",
              "      <td>2000-10-31</td>\n",
              "      <td>MANU @ POR</td>\n",
              "      <td>1.0</td>\n",
              "      <td>45.539131, -122.651648</td>\n",
              "      <td>shot - 30</td>\n",
              "      <td>NaN</td>\n",
              "      <td>20000012</td>\n",
              "      <td>1610612747</td>\n",
              "      <td>10.00</td>\n",
              "      <td>1.0</td>\n",
              "      <td>50.608</td>\n",
              "      <td>54.2000</td>\n",
              "      <td>38.0</td>\n",
              "    </tr>\n",
              "    <tr>\n",
              "      <th>1</th>\n",
              "      <td>1</td>\n",
              "      <td>12.0</td>\n",
              "      <td>-157.0</td>\n",
              "      <td>0.0</td>\n",
              "      <td>10.0</td>\n",
              "      <td>1.0</td>\n",
              "      <td>0.0</td>\n",
              "      <td>2000-01</td>\n",
              "      <td>22.0</td>\n",
              "      <td>35.0</td>\n",
              "      <td>0.0</td>\n",
              "      <td>Left Side(L)</td>\n",
              "      <td>Mid Range</td>\n",
              "      <td>8-16 ft.</td>\n",
              "      <td>Manchester United</td>\n",
              "      <td>2000-10-31</td>\n",
              "      <td>MANU @ POR</td>\n",
              "      <td>2.0</td>\n",
              "      <td>45.539131, -122.651648</td>\n",
              "      <td>shot - 45</td>\n",
              "      <td>NaN</td>\n",
              "      <td>20000012</td>\n",
              "      <td>1610612747</td>\n",
              "      <td>10.00</td>\n",
              "      <td>1.0</td>\n",
              "      <td>28.800</td>\n",
              "      <td>22.0000</td>\n",
              "      <td>35.0</td>\n",
              "    </tr>\n",
              "    <tr>\n",
              "      <th>2</th>\n",
              "      <td>2</td>\n",
              "      <td>35.0</td>\n",
              "      <td>-101.0</td>\n",
              "      <td>135.0</td>\n",
              "      <td>7.0</td>\n",
              "      <td>1.0</td>\n",
              "      <td>0.0</td>\n",
              "      <td>2000-01</td>\n",
              "      <td>45.0</td>\n",
              "      <td>36.0</td>\n",
              "      <td>1.0</td>\n",
              "      <td>Left Side Center(LC)</td>\n",
              "      <td>Mid Range</td>\n",
              "      <td>16-24 ft.</td>\n",
              "      <td>Manchester United</td>\n",
              "      <td>2000-10-31</td>\n",
              "      <td>NaN</td>\n",
              "      <td>3.0</td>\n",
              "      <td>45.539131, -122.651648</td>\n",
              "      <td>shot - 25</td>\n",
              "      <td>NaN</td>\n",
              "      <td>20000012</td>\n",
              "      <td>1610612747</td>\n",
              "      <td>92.64</td>\n",
              "      <td>1.0</td>\n",
              "      <td>0.000</td>\n",
              "      <td>63.7216</td>\n",
              "      <td>54.4</td>\n",
              "    </tr>\n",
              "    <tr>\n",
              "      <th>3</th>\n",
              "      <td>3</td>\n",
              "      <td>43.0</td>\n",
              "      <td>138.0</td>\n",
              "      <td>175.0</td>\n",
              "      <td>6.0</td>\n",
              "      <td>1.0</td>\n",
              "      <td>0.0</td>\n",
              "      <td>2000-01</td>\n",
              "      <td>52.0</td>\n",
              "      <td>42.0</td>\n",
              "      <td>0.0</td>\n",
              "      <td>Right Side Center(RC)</td>\n",
              "      <td>Mid Range</td>\n",
              "      <td>16-24 ft.</td>\n",
              "      <td>Manchester United</td>\n",
              "      <td>2000-10-31</td>\n",
              "      <td>MANU @ POR</td>\n",
              "      <td>4.0</td>\n",
              "      <td>45.539131, -122.651648</td>\n",
              "      <td>NaN</td>\n",
              "      <td>shot - 3</td>\n",
              "      <td>20000012</td>\n",
              "      <td>1610612747</td>\n",
              "      <td>NaN</td>\n",
              "      <td>1.0</td>\n",
              "      <td>122.608</td>\n",
              "      <td>52.0000</td>\n",
              "      <td>42.0</td>\n",
              "    </tr>\n",
              "    <tr>\n",
              "      <th>4</th>\n",
              "      <td>4</td>\n",
              "      <td>155.0</td>\n",
              "      <td>0.0</td>\n",
              "      <td>0.0</td>\n",
              "      <td>NaN</td>\n",
              "      <td>2.0</td>\n",
              "      <td>0.0</td>\n",
              "      <td>2000-01</td>\n",
              "      <td>19.0</td>\n",
              "      <td>20.0</td>\n",
              "      <td>1.0</td>\n",
              "      <td>Center(C)</td>\n",
              "      <td>Goal Area</td>\n",
              "      <td>Less Than 8 ft.</td>\n",
              "      <td>NaN</td>\n",
              "      <td>2000-10-31</td>\n",
              "      <td>MANU @ POR</td>\n",
              "      <td>5.0</td>\n",
              "      <td>45.539131, -122.651648</td>\n",
              "      <td>NaN</td>\n",
              "      <td>shot - 1</td>\n",
              "      <td>20000012</td>\n",
              "      <td>1610612747</td>\n",
              "      <td>42.64</td>\n",
              "      <td>2.0</td>\n",
              "      <td>0.000</td>\n",
              "      <td>19.0000</td>\n",
              "      <td>20.0</td>\n",
              "    </tr>\n",
              "  </tbody>\n",
              "</table>\n",
              "</div>"
            ],
            "text/plain": [
              "   Unnamed: 0  match_event_id  ...  remaining_sec.1  distance_of_shot.1\n",
              "0           0            10.0  ...          54.2000                38.0\n",
              "1           1            12.0  ...          22.0000                35.0\n",
              "2           2            35.0  ...          63.7216                54.4\n",
              "3           3            43.0  ...          52.0000                42.0\n",
              "4           4           155.0  ...          19.0000                20.0\n",
              "\n",
              "[5 rows x 28 columns]"
            ]
          },
          "metadata": {
            "tags": []
          },
          "execution_count": 4
        }
      ]
    },
    {
      "cell_type": "markdown",
      "metadata": {
        "id": "Pbk1GiV00VsU"
      },
      "source": [
        "# A. Data Preprocessing"
      ]
    },
    {
      "cell_type": "markdown",
      "metadata": {
        "id": "Er0BWEWf0VsU"
      },
      "source": [
        "#### 1. Exploring the Columns of Dataset"
      ]
    },
    {
      "cell_type": "code",
      "metadata": {
        "colab": {
          "base_uri": "https://localhost:8080/",
          "height": 306
        },
        "id": "EvnZwu6Z0VsV",
        "outputId": "82a6ce2f-11ed-49a7-f81c-fe545161836f"
      },
      "source": [
        "# A. Using descriptive Statistics to find some insights\n",
        "data.describe()"
      ],
      "execution_count": 5,
      "outputs": [
        {
          "output_type": "execute_result",
          "data": {
            "text/html": [
              "<div>\n",
              "<style scoped>\n",
              "    .dataframe tbody tr th:only-of-type {\n",
              "        vertical-align: middle;\n",
              "    }\n",
              "\n",
              "    .dataframe tbody tr th {\n",
              "        vertical-align: top;\n",
              "    }\n",
              "\n",
              "    .dataframe thead th {\n",
              "        text-align: right;\n",
              "    }\n",
              "</style>\n",
              "<table border=\"1\" class=\"dataframe\">\n",
              "  <thead>\n",
              "    <tr style=\"text-align: right;\">\n",
              "      <th></th>\n",
              "      <th>Unnamed: 0</th>\n",
              "      <th>match_event_id</th>\n",
              "      <th>location_x</th>\n",
              "      <th>location_y</th>\n",
              "      <th>remaining_min</th>\n",
              "      <th>power_of_shot</th>\n",
              "      <th>knockout_match</th>\n",
              "      <th>remaining_sec</th>\n",
              "      <th>distance_of_shot</th>\n",
              "      <th>is_goal</th>\n",
              "      <th>shot_id_number</th>\n",
              "      <th>match_id</th>\n",
              "      <th>team_id</th>\n",
              "      <th>remaining_min.1</th>\n",
              "      <th>power_of_shot.1</th>\n",
              "      <th>knockout_match.1</th>\n",
              "      <th>remaining_sec.1</th>\n",
              "      <th>distance_of_shot.1</th>\n",
              "    </tr>\n",
              "  </thead>\n",
              "  <tbody>\n",
              "    <tr>\n",
              "      <th>count</th>\n",
              "      <td>30697.000000</td>\n",
              "      <td>29134.000000</td>\n",
              "      <td>29236.000000</td>\n",
              "      <td>29157.000000</td>\n",
              "      <td>29135.000000</td>\n",
              "      <td>29211.000000</td>\n",
              "      <td>29180.000000</td>\n",
              "      <td>29103.000000</td>\n",
              "      <td>29130.000000</td>\n",
              "      <td>24429.000000</td>\n",
              "      <td>29134.000000</td>\n",
              "      <td>3.069700e+04</td>\n",
              "      <td>3.069700e+04</td>\n",
              "      <td>29162.000000</td>\n",
              "      <td>29158.000000</td>\n",
              "      <td>29204.000000</td>\n",
              "      <td>29158.000000</td>\n",
              "      <td>29129.000000</td>\n",
              "    </tr>\n",
              "    <tr>\n",
              "      <th>mean</th>\n",
              "      <td>15348.000000</td>\n",
              "      <td>249.576028</td>\n",
              "      <td>7.383876</td>\n",
              "      <td>91.126933</td>\n",
              "      <td>4.883233</td>\n",
              "      <td>2.519359</td>\n",
              "      <td>0.145956</td>\n",
              "      <td>28.329382</td>\n",
              "      <td>33.448884</td>\n",
              "      <td>0.445331</td>\n",
              "      <td>15368.581039</td>\n",
              "      <td>2.476407e+07</td>\n",
              "      <td>1.610613e+09</td>\n",
              "      <td>18.204615</td>\n",
              "      <td>15.994109</td>\n",
              "      <td>16.599402</td>\n",
              "      <td>39.027303</td>\n",
              "      <td>38.801852</td>\n",
              "    </tr>\n",
              "    <tr>\n",
              "      <th>std</th>\n",
              "      <td>8861.604943</td>\n",
              "      <td>150.186019</td>\n",
              "      <td>110.263049</td>\n",
              "      <td>87.676395</td>\n",
              "      <td>3.452533</td>\n",
              "      <td>1.153976</td>\n",
              "      <td>0.353068</td>\n",
              "      <td>17.470663</td>\n",
              "      <td>9.369656</td>\n",
              "      <td>0.497013</td>\n",
              "      <td>8866.520772</td>\n",
              "      <td>7.755175e+06</td>\n",
              "      <td>0.000000e+00</td>\n",
              "      <td>29.416973</td>\n",
              "      <td>29.676815</td>\n",
              "      <td>35.172016</td>\n",
              "      <td>29.835284</td>\n",
              "      <td>18.787711</td>\n",
              "    </tr>\n",
              "    <tr>\n",
              "      <th>min</th>\n",
              "      <td>0.000000</td>\n",
              "      <td>2.000000</td>\n",
              "      <td>-250.000000</td>\n",
              "      <td>-44.000000</td>\n",
              "      <td>0.000000</td>\n",
              "      <td>1.000000</td>\n",
              "      <td>0.000000</td>\n",
              "      <td>0.000000</td>\n",
              "      <td>20.000000</td>\n",
              "      <td>0.000000</td>\n",
              "      <td>1.000000</td>\n",
              "      <td>2.000001e+07</td>\n",
              "      <td>1.610613e+09</td>\n",
              "      <td>0.000000</td>\n",
              "      <td>1.000000</td>\n",
              "      <td>0.000000</td>\n",
              "      <td>0.000000</td>\n",
              "      <td>9.400000</td>\n",
              "    </tr>\n",
              "    <tr>\n",
              "      <th>25%</th>\n",
              "      <td>7674.000000</td>\n",
              "      <td>111.000000</td>\n",
              "      <td>-68.000000</td>\n",
              "      <td>4.000000</td>\n",
              "      <td>2.000000</td>\n",
              "      <td>1.000000</td>\n",
              "      <td>0.000000</td>\n",
              "      <td>13.000000</td>\n",
              "      <td>25.000000</td>\n",
              "      <td>0.000000</td>\n",
              "      <td>7693.250000</td>\n",
              "      <td>2.050008e+07</td>\n",
              "      <td>1.610613e+09</td>\n",
              "      <td>3.000000</td>\n",
              "      <td>2.000000</td>\n",
              "      <td>0.000000</td>\n",
              "      <td>17.000000</td>\n",
              "      <td>26.000000</td>\n",
              "    </tr>\n",
              "    <tr>\n",
              "      <th>50%</th>\n",
              "      <td>15348.000000</td>\n",
              "      <td>254.000000</td>\n",
              "      <td>0.000000</td>\n",
              "      <td>74.000000</td>\n",
              "      <td>5.000000</td>\n",
              "      <td>3.000000</td>\n",
              "      <td>0.000000</td>\n",
              "      <td>28.000000</td>\n",
              "      <td>35.000000</td>\n",
              "      <td>0.000000</td>\n",
              "      <td>15378.500000</td>\n",
              "      <td>2.090035e+07</td>\n",
              "      <td>1.610613e+09</td>\n",
              "      <td>6.000000</td>\n",
              "      <td>3.000000</td>\n",
              "      <td>0.000000</td>\n",
              "      <td>35.000000</td>\n",
              "      <td>36.000000</td>\n",
              "    </tr>\n",
              "    <tr>\n",
              "      <th>75%</th>\n",
              "      <td>23022.000000</td>\n",
              "      <td>369.000000</td>\n",
              "      <td>95.000000</td>\n",
              "      <td>160.000000</td>\n",
              "      <td>8.000000</td>\n",
              "      <td>3.000000</td>\n",
              "      <td>0.000000</td>\n",
              "      <td>43.000000</td>\n",
              "      <td>41.000000</td>\n",
              "      <td>1.000000</td>\n",
              "      <td>23055.750000</td>\n",
              "      <td>2.960047e+07</td>\n",
              "      <td>1.610613e+09</td>\n",
              "      <td>11.000000</td>\n",
              "      <td>4.000000</td>\n",
              "      <td>1.000000</td>\n",
              "      <td>52.000000</td>\n",
              "      <td>44.000000</td>\n",
              "    </tr>\n",
              "    <tr>\n",
              "      <th>max</th>\n",
              "      <td>30696.000000</td>\n",
              "      <td>659.000000</td>\n",
              "      <td>248.000000</td>\n",
              "      <td>791.000000</td>\n",
              "      <td>11.000000</td>\n",
              "      <td>7.000000</td>\n",
              "      <td>1.000000</td>\n",
              "      <td>59.000000</td>\n",
              "      <td>99.000000</td>\n",
              "      <td>1.000000</td>\n",
              "      <td>30697.000000</td>\n",
              "      <td>4.990009e+07</td>\n",
              "      <td>1.610613e+09</td>\n",
              "      <td>128.761600</td>\n",
              "      <td>118.360000</td>\n",
              "      <td>141.352320</td>\n",
              "      <td>144.785600</td>\n",
              "      <td>115.728000</td>\n",
              "    </tr>\n",
              "  </tbody>\n",
              "</table>\n",
              "</div>"
            ],
            "text/plain": [
              "         Unnamed: 0  match_event_id  ...  remaining_sec.1  distance_of_shot.1\n",
              "count  30697.000000    29134.000000  ...     29158.000000        29129.000000\n",
              "mean   15348.000000      249.576028  ...        39.027303           38.801852\n",
              "std     8861.604943      150.186019  ...        29.835284           18.787711\n",
              "min        0.000000        2.000000  ...         0.000000            9.400000\n",
              "25%     7674.000000      111.000000  ...        17.000000           26.000000\n",
              "50%    15348.000000      254.000000  ...        35.000000           36.000000\n",
              "75%    23022.000000      369.000000  ...        52.000000           44.000000\n",
              "max    30696.000000      659.000000  ...       144.785600          115.728000\n",
              "\n",
              "[8 rows x 18 columns]"
            ]
          },
          "metadata": {
            "tags": []
          },
          "execution_count": 5
        }
      ]
    },
    {
      "cell_type": "code",
      "metadata": {
        "colab": {
          "base_uri": "https://localhost:8080/"
        },
        "id": "VQ6Erwgk0VsV",
        "outputId": "7044560d-4654-4943-8018-7437ed9bf1f3"
      },
      "source": [
        "# B. Finding the dtypes of Columns to get some Insights\n",
        "data.info()"
      ],
      "execution_count": 6,
      "outputs": [
        {
          "output_type": "stream",
          "text": [
            "<class 'pandas.core.frame.DataFrame'>\n",
            "RangeIndex: 30697 entries, 0 to 30696\n",
            "Data columns (total 28 columns):\n",
            " #   Column                 Non-Null Count  Dtype  \n",
            "---  ------                 --------------  -----  \n",
            " 0   Unnamed: 0             30697 non-null  int64  \n",
            " 1   match_event_id         29134 non-null  float64\n",
            " 2   location_x             29236 non-null  float64\n",
            " 3   location_y             29157 non-null  float64\n",
            " 4   remaining_min          29135 non-null  float64\n",
            " 5   power_of_shot          29211 non-null  float64\n",
            " 6   knockout_match         29180 non-null  float64\n",
            " 7   game_season            24835 non-null  object \n",
            " 8   remaining_sec          29103 non-null  float64\n",
            " 9   distance_of_shot       29130 non-null  float64\n",
            " 10  is_goal                24429 non-null  float64\n",
            " 11  area_of_shot           29195 non-null  object \n",
            " 12  shot_basics            29122 non-null  object \n",
            " 13  range_of_shot          29133 non-null  object \n",
            " 14  team_name              29162 non-null  object \n",
            " 15  date_of_game           29147 non-null  object \n",
            " 16  home/away              29200 non-null  object \n",
            " 17  shot_id_number         29134 non-null  float64\n",
            " 18  lat/lng                29132 non-null  object \n",
            " 19  type_of_shot           15417 non-null  object \n",
            " 20  type_of_combined_shot  15280 non-null  object \n",
            " 21  match_id               30697 non-null  int64  \n",
            " 22  team_id                30697 non-null  int64  \n",
            " 23  remaining_min.1        29162 non-null  float64\n",
            " 24  power_of_shot.1        29158 non-null  float64\n",
            " 25  knockout_match.1       29204 non-null  float64\n",
            " 26  remaining_sec.1        29158 non-null  float64\n",
            " 27  distance_of_shot.1     29129 non-null  float64\n",
            "dtypes: float64(15), int64(3), object(10)\n",
            "memory usage: 6.6+ MB\n"
          ],
          "name": "stdout"
        }
      ]
    },
    {
      "cell_type": "markdown",
      "metadata": {
        "id": "AFjndaAW0VsV"
      },
      "source": [
        "#### 2. Checking for Missing Values"
      ]
    },
    {
      "cell_type": "code",
      "metadata": {
        "colab": {
          "base_uri": "https://localhost:8080/",
          "height": 882
        },
        "id": "CmucGhkN0VsW",
        "outputId": "ecef8de1-b297-478c-ab8a-aa5268c3055e"
      },
      "source": [
        "# Percentage and Sum of Missing values in each Columns\n",
        "missing_data = pd.DataFrame({'total_missing': data.isnull().sum(), 'perc_missing': (data.isnull().sum()/data.shape[0])*100})\n",
        "missing_data"
      ],
      "execution_count": 7,
      "outputs": [
        {
          "output_type": "execute_result",
          "data": {
            "text/html": [
              "<div>\n",
              "<style scoped>\n",
              "    .dataframe tbody tr th:only-of-type {\n",
              "        vertical-align: middle;\n",
              "    }\n",
              "\n",
              "    .dataframe tbody tr th {\n",
              "        vertical-align: top;\n",
              "    }\n",
              "\n",
              "    .dataframe thead th {\n",
              "        text-align: right;\n",
              "    }\n",
              "</style>\n",
              "<table border=\"1\" class=\"dataframe\">\n",
              "  <thead>\n",
              "    <tr style=\"text-align: right;\">\n",
              "      <th></th>\n",
              "      <th>total_missing</th>\n",
              "      <th>perc_missing</th>\n",
              "    </tr>\n",
              "  </thead>\n",
              "  <tbody>\n",
              "    <tr>\n",
              "      <th>Unnamed: 0</th>\n",
              "      <td>0</td>\n",
              "      <td>0.000000</td>\n",
              "    </tr>\n",
              "    <tr>\n",
              "      <th>match_event_id</th>\n",
              "      <td>1563</td>\n",
              "      <td>5.091703</td>\n",
              "    </tr>\n",
              "    <tr>\n",
              "      <th>location_x</th>\n",
              "      <td>1461</td>\n",
              "      <td>4.759423</td>\n",
              "    </tr>\n",
              "    <tr>\n",
              "      <th>location_y</th>\n",
              "      <td>1540</td>\n",
              "      <td>5.016777</td>\n",
              "    </tr>\n",
              "    <tr>\n",
              "      <th>remaining_min</th>\n",
              "      <td>1562</td>\n",
              "      <td>5.088445</td>\n",
              "    </tr>\n",
              "    <tr>\n",
              "      <th>power_of_shot</th>\n",
              "      <td>1486</td>\n",
              "      <td>4.840864</td>\n",
              "    </tr>\n",
              "    <tr>\n",
              "      <th>knockout_match</th>\n",
              "      <td>1517</td>\n",
              "      <td>4.941851</td>\n",
              "    </tr>\n",
              "    <tr>\n",
              "      <th>game_season</th>\n",
              "      <td>5862</td>\n",
              "      <td>19.096329</td>\n",
              "    </tr>\n",
              "    <tr>\n",
              "      <th>remaining_sec</th>\n",
              "      <td>1594</td>\n",
              "      <td>5.192690</td>\n",
              "    </tr>\n",
              "    <tr>\n",
              "      <th>distance_of_shot</th>\n",
              "      <td>1567</td>\n",
              "      <td>5.104733</td>\n",
              "    </tr>\n",
              "    <tr>\n",
              "      <th>is_goal</th>\n",
              "      <td>6268</td>\n",
              "      <td>20.418933</td>\n",
              "    </tr>\n",
              "    <tr>\n",
              "      <th>area_of_shot</th>\n",
              "      <td>1502</td>\n",
              "      <td>4.892986</td>\n",
              "    </tr>\n",
              "    <tr>\n",
              "      <th>shot_basics</th>\n",
              "      <td>1575</td>\n",
              "      <td>5.130795</td>\n",
              "    </tr>\n",
              "    <tr>\n",
              "      <th>range_of_shot</th>\n",
              "      <td>1564</td>\n",
              "      <td>5.094960</td>\n",
              "    </tr>\n",
              "    <tr>\n",
              "      <th>team_name</th>\n",
              "      <td>1535</td>\n",
              "      <td>5.000489</td>\n",
              "    </tr>\n",
              "    <tr>\n",
              "      <th>date_of_game</th>\n",
              "      <td>1550</td>\n",
              "      <td>5.049353</td>\n",
              "    </tr>\n",
              "    <tr>\n",
              "      <th>home/away</th>\n",
              "      <td>1497</td>\n",
              "      <td>4.876698</td>\n",
              "    </tr>\n",
              "    <tr>\n",
              "      <th>shot_id_number</th>\n",
              "      <td>1563</td>\n",
              "      <td>5.091703</td>\n",
              "    </tr>\n",
              "    <tr>\n",
              "      <th>lat/lng</th>\n",
              "      <td>1565</td>\n",
              "      <td>5.098218</td>\n",
              "    </tr>\n",
              "    <tr>\n",
              "      <th>type_of_shot</th>\n",
              "      <td>15280</td>\n",
              "      <td>49.776851</td>\n",
              "    </tr>\n",
              "    <tr>\n",
              "      <th>type_of_combined_shot</th>\n",
              "      <td>15417</td>\n",
              "      <td>50.223149</td>\n",
              "    </tr>\n",
              "    <tr>\n",
              "      <th>match_id</th>\n",
              "      <td>0</td>\n",
              "      <td>0.000000</td>\n",
              "    </tr>\n",
              "    <tr>\n",
              "      <th>team_id</th>\n",
              "      <td>0</td>\n",
              "      <td>0.000000</td>\n",
              "    </tr>\n",
              "    <tr>\n",
              "      <th>remaining_min.1</th>\n",
              "      <td>1535</td>\n",
              "      <td>5.000489</td>\n",
              "    </tr>\n",
              "    <tr>\n",
              "      <th>power_of_shot.1</th>\n",
              "      <td>1539</td>\n",
              "      <td>5.013519</td>\n",
              "    </tr>\n",
              "    <tr>\n",
              "      <th>knockout_match.1</th>\n",
              "      <td>1493</td>\n",
              "      <td>4.863667</td>\n",
              "    </tr>\n",
              "    <tr>\n",
              "      <th>remaining_sec.1</th>\n",
              "      <td>1539</td>\n",
              "      <td>5.013519</td>\n",
              "    </tr>\n",
              "    <tr>\n",
              "      <th>distance_of_shot.1</th>\n",
              "      <td>1568</td>\n",
              "      <td>5.107991</td>\n",
              "    </tr>\n",
              "  </tbody>\n",
              "</table>\n",
              "</div>"
            ],
            "text/plain": [
              "                       total_missing  perc_missing\n",
              "Unnamed: 0                         0      0.000000\n",
              "match_event_id                  1563      5.091703\n",
              "location_x                      1461      4.759423\n",
              "location_y                      1540      5.016777\n",
              "remaining_min                   1562      5.088445\n",
              "power_of_shot                   1486      4.840864\n",
              "knockout_match                  1517      4.941851\n",
              "game_season                     5862     19.096329\n",
              "remaining_sec                   1594      5.192690\n",
              "distance_of_shot                1567      5.104733\n",
              "is_goal                         6268     20.418933\n",
              "area_of_shot                    1502      4.892986\n",
              "shot_basics                     1575      5.130795\n",
              "range_of_shot                   1564      5.094960\n",
              "team_name                       1535      5.000489\n",
              "date_of_game                    1550      5.049353\n",
              "home/away                       1497      4.876698\n",
              "shot_id_number                  1563      5.091703\n",
              "lat/lng                         1565      5.098218\n",
              "type_of_shot                   15280     49.776851\n",
              "type_of_combined_shot          15417     50.223149\n",
              "match_id                           0      0.000000\n",
              "team_id                            0      0.000000\n",
              "remaining_min.1                 1535      5.000489\n",
              "power_of_shot.1                 1539      5.013519\n",
              "knockout_match.1                1493      4.863667\n",
              "remaining_sec.1                 1539      5.013519\n",
              "distance_of_shot.1              1568      5.107991"
            ]
          },
          "metadata": {
            "tags": []
          },
          "execution_count": 7
        }
      ]
    },
    {
      "cell_type": "code",
      "metadata": {
        "colab": {
          "base_uri": "https://localhost:8080/"
        },
        "id": "49So737y0VsW",
        "outputId": "f05a51eb-6381-4aa7-f73e-1fc6c2a93876"
      },
      "source": [
        "# Exploring The Target Variable 'is_goal'\n",
        "data.is_goal.value_counts()"
      ],
      "execution_count": 8,
      "outputs": [
        {
          "output_type": "execute_result",
          "data": {
            "text/plain": [
              "0.0    13550\n",
              "1.0    10879\n",
              "Name: is_goal, dtype: int64"
            ]
          },
          "metadata": {
            "tags": []
          },
          "execution_count": 8
        }
      ]
    },
    {
      "cell_type": "markdown",
      "metadata": {
        "id": "O0hLciTS0VsW"
      },
      "source": [
        "##### \" It's a binary classification problem as there are only two values for the target ''is_goal\" column"
      ]
    },
    {
      "cell_type": "markdown",
      "metadata": {
        "id": "UsgynzBc0VsX"
      },
      "source": [
        "\n",
        "\n",
        "# B.      Exploratory Data Analysis"
      ]
    },
    {
      "cell_type": "markdown",
      "metadata": {
        "id": "FSqf8fa80VsX"
      },
      "source": [
        "#### 1. Dropping unnessary Columns\n"
      ]
    },
    {
      "cell_type": "code",
      "metadata": {
        "id": "dSYYOQDv0VsX"
      },
      "source": [
        "#1. Droping Unnecessary Columns\n",
        "data.drop([\"Unnamed: 0\",  'remaining_min.1', 'power_of_shot.1','knockout_match.1', 'remaining_sec.1', 'distance_of_shot.1'], axis=1, inplace=True)"
      ],
      "execution_count": 9,
      "outputs": []
    },
    {
      "cell_type": "code",
      "metadata": {
        "colab": {
          "base_uri": "https://localhost:8080/",
          "height": 300
        },
        "id": "ws-526yY0VsX",
        "outputId": "a9b63ea0-b8bd-41e9-8175-034f9e311dfd"
      },
      "source": [
        "data.head() # looking at the dataset after transformation"
      ],
      "execution_count": 10,
      "outputs": [
        {
          "output_type": "execute_result",
          "data": {
            "text/html": [
              "<div>\n",
              "<style scoped>\n",
              "    .dataframe tbody tr th:only-of-type {\n",
              "        vertical-align: middle;\n",
              "    }\n",
              "\n",
              "    .dataframe tbody tr th {\n",
              "        vertical-align: top;\n",
              "    }\n",
              "\n",
              "    .dataframe thead th {\n",
              "        text-align: right;\n",
              "    }\n",
              "</style>\n",
              "<table border=\"1\" class=\"dataframe\">\n",
              "  <thead>\n",
              "    <tr style=\"text-align: right;\">\n",
              "      <th></th>\n",
              "      <th>match_event_id</th>\n",
              "      <th>location_x</th>\n",
              "      <th>location_y</th>\n",
              "      <th>remaining_min</th>\n",
              "      <th>power_of_shot</th>\n",
              "      <th>knockout_match</th>\n",
              "      <th>game_season</th>\n",
              "      <th>remaining_sec</th>\n",
              "      <th>distance_of_shot</th>\n",
              "      <th>is_goal</th>\n",
              "      <th>area_of_shot</th>\n",
              "      <th>shot_basics</th>\n",
              "      <th>range_of_shot</th>\n",
              "      <th>team_name</th>\n",
              "      <th>date_of_game</th>\n",
              "      <th>home/away</th>\n",
              "      <th>shot_id_number</th>\n",
              "      <th>lat/lng</th>\n",
              "      <th>type_of_shot</th>\n",
              "      <th>type_of_combined_shot</th>\n",
              "      <th>match_id</th>\n",
              "      <th>team_id</th>\n",
              "    </tr>\n",
              "  </thead>\n",
              "  <tbody>\n",
              "    <tr>\n",
              "      <th>0</th>\n",
              "      <td>10.0</td>\n",
              "      <td>167.0</td>\n",
              "      <td>72.0</td>\n",
              "      <td>10.0</td>\n",
              "      <td>1.0</td>\n",
              "      <td>0.0</td>\n",
              "      <td>2000-01</td>\n",
              "      <td>27.0</td>\n",
              "      <td>38.0</td>\n",
              "      <td>NaN</td>\n",
              "      <td>Right Side(R)</td>\n",
              "      <td>Mid Range</td>\n",
              "      <td>16-24 ft.</td>\n",
              "      <td>Manchester United</td>\n",
              "      <td>2000-10-31</td>\n",
              "      <td>MANU @ POR</td>\n",
              "      <td>1.0</td>\n",
              "      <td>45.539131, -122.651648</td>\n",
              "      <td>shot - 30</td>\n",
              "      <td>NaN</td>\n",
              "      <td>20000012</td>\n",
              "      <td>1610612747</td>\n",
              "    </tr>\n",
              "    <tr>\n",
              "      <th>1</th>\n",
              "      <td>12.0</td>\n",
              "      <td>-157.0</td>\n",
              "      <td>0.0</td>\n",
              "      <td>10.0</td>\n",
              "      <td>1.0</td>\n",
              "      <td>0.0</td>\n",
              "      <td>2000-01</td>\n",
              "      <td>22.0</td>\n",
              "      <td>35.0</td>\n",
              "      <td>0.0</td>\n",
              "      <td>Left Side(L)</td>\n",
              "      <td>Mid Range</td>\n",
              "      <td>8-16 ft.</td>\n",
              "      <td>Manchester United</td>\n",
              "      <td>2000-10-31</td>\n",
              "      <td>MANU @ POR</td>\n",
              "      <td>2.0</td>\n",
              "      <td>45.539131, -122.651648</td>\n",
              "      <td>shot - 45</td>\n",
              "      <td>NaN</td>\n",
              "      <td>20000012</td>\n",
              "      <td>1610612747</td>\n",
              "    </tr>\n",
              "    <tr>\n",
              "      <th>2</th>\n",
              "      <td>35.0</td>\n",
              "      <td>-101.0</td>\n",
              "      <td>135.0</td>\n",
              "      <td>7.0</td>\n",
              "      <td>1.0</td>\n",
              "      <td>0.0</td>\n",
              "      <td>2000-01</td>\n",
              "      <td>45.0</td>\n",
              "      <td>36.0</td>\n",
              "      <td>1.0</td>\n",
              "      <td>Left Side Center(LC)</td>\n",
              "      <td>Mid Range</td>\n",
              "      <td>16-24 ft.</td>\n",
              "      <td>Manchester United</td>\n",
              "      <td>2000-10-31</td>\n",
              "      <td>NaN</td>\n",
              "      <td>3.0</td>\n",
              "      <td>45.539131, -122.651648</td>\n",
              "      <td>shot - 25</td>\n",
              "      <td>NaN</td>\n",
              "      <td>20000012</td>\n",
              "      <td>1610612747</td>\n",
              "    </tr>\n",
              "    <tr>\n",
              "      <th>3</th>\n",
              "      <td>43.0</td>\n",
              "      <td>138.0</td>\n",
              "      <td>175.0</td>\n",
              "      <td>6.0</td>\n",
              "      <td>1.0</td>\n",
              "      <td>0.0</td>\n",
              "      <td>2000-01</td>\n",
              "      <td>52.0</td>\n",
              "      <td>42.0</td>\n",
              "      <td>0.0</td>\n",
              "      <td>Right Side Center(RC)</td>\n",
              "      <td>Mid Range</td>\n",
              "      <td>16-24 ft.</td>\n",
              "      <td>Manchester United</td>\n",
              "      <td>2000-10-31</td>\n",
              "      <td>MANU @ POR</td>\n",
              "      <td>4.0</td>\n",
              "      <td>45.539131, -122.651648</td>\n",
              "      <td>NaN</td>\n",
              "      <td>shot - 3</td>\n",
              "      <td>20000012</td>\n",
              "      <td>1610612747</td>\n",
              "    </tr>\n",
              "    <tr>\n",
              "      <th>4</th>\n",
              "      <td>155.0</td>\n",
              "      <td>0.0</td>\n",
              "      <td>0.0</td>\n",
              "      <td>NaN</td>\n",
              "      <td>2.0</td>\n",
              "      <td>0.0</td>\n",
              "      <td>2000-01</td>\n",
              "      <td>19.0</td>\n",
              "      <td>20.0</td>\n",
              "      <td>1.0</td>\n",
              "      <td>Center(C)</td>\n",
              "      <td>Goal Area</td>\n",
              "      <td>Less Than 8 ft.</td>\n",
              "      <td>NaN</td>\n",
              "      <td>2000-10-31</td>\n",
              "      <td>MANU @ POR</td>\n",
              "      <td>5.0</td>\n",
              "      <td>45.539131, -122.651648</td>\n",
              "      <td>NaN</td>\n",
              "      <td>shot - 1</td>\n",
              "      <td>20000012</td>\n",
              "      <td>1610612747</td>\n",
              "    </tr>\n",
              "  </tbody>\n",
              "</table>\n",
              "</div>"
            ],
            "text/plain": [
              "   match_event_id  location_x  ...  match_id     team_id\n",
              "0            10.0       167.0  ...  20000012  1610612747\n",
              "1            12.0      -157.0  ...  20000012  1610612747\n",
              "2            35.0      -101.0  ...  20000012  1610612747\n",
              "3            43.0       138.0  ...  20000012  1610612747\n",
              "4           155.0         0.0  ...  20000012  1610612747\n",
              "\n",
              "[5 rows x 22 columns]"
            ]
          },
          "metadata": {
            "tags": []
          },
          "execution_count": 10
        }
      ]
    },
    {
      "cell_type": "code",
      "metadata": {
        "colab": {
          "base_uri": "https://localhost:8080/"
        },
        "id": "OVt3_yBZ0VsY",
        "outputId": "458e2159-974e-46a9-8be5-0123d6481f9f"
      },
      "source": [
        "data.columns # to see if the columns are dropped succesfully"
      ],
      "execution_count": 11,
      "outputs": [
        {
          "output_type": "execute_result",
          "data": {
            "text/plain": [
              "Index(['match_event_id', 'location_x', 'location_y', 'remaining_min',\n",
              "       'power_of_shot', 'knockout_match', 'game_season', 'remaining_sec',\n",
              "       'distance_of_shot', 'is_goal', 'area_of_shot', 'shot_basics',\n",
              "       'range_of_shot', 'team_name', 'date_of_game', 'home/away',\n",
              "       'shot_id_number', 'lat/lng', 'type_of_shot', 'type_of_combined_shot',\n",
              "       'match_id', 'team_id'],\n",
              "      dtype='object')"
            ]
          },
          "metadata": {
            "tags": []
          },
          "execution_count": 11
        }
      ]
    },
    {
      "cell_type": "code",
      "metadata": {
        "colab": {
          "base_uri": "https://localhost:8080/"
        },
        "id": "EE0zZ4UH0VsY",
        "outputId": "a74a7b16-001d-46af-d9b0-7788ee20cf9c"
      },
      "source": [
        "#2. Changing dtypes to datetime\n",
        "data.date_of_game = pd.to_datetime(data.date_of_game, errors='coerce')\n",
        "data['game_season'] = data['game_season'].astype('object')\n",
        "data['game_season']"
      ],
      "execution_count": 12,
      "outputs": [
        {
          "output_type": "execute_result",
          "data": {
            "text/plain": [
              "0        2000-01\n",
              "1        2000-01\n",
              "2        2000-01\n",
              "3        2000-01\n",
              "4        2000-01\n",
              "          ...   \n",
              "30692    1999-00\n",
              "30693    1999-00\n",
              "30694    1999-00\n",
              "30695    1999-00\n",
              "30696    1999-00\n",
              "Name: game_season, Length: 30697, dtype: object"
            ]
          },
          "metadata": {
            "tags": []
          },
          "execution_count": 12
        }
      ]
    },
    {
      "cell_type": "code",
      "metadata": {
        "id": "b5aztGAz0VsY"
      },
      "source": [
        "# Labelencoding the 'game_season' "
      ],
      "execution_count": 13,
      "outputs": []
    },
    {
      "cell_type": "code",
      "metadata": {
        "colab": {
          "base_uri": "https://localhost:8080/"
        },
        "id": "XMe-Vrp50VsY",
        "outputId": "d7e0f6f5-910c-4d6c-8bb4-423a2df85efb"
      },
      "source": [
        "l_unique = data['game_season'].unique() # fteching out the unique values from game_season/\n",
        "l_unique"
      ],
      "execution_count": 14,
      "outputs": [
        {
          "output_type": "execute_result",
          "data": {
            "text/plain": [
              "array(['2000-01', nan, '2001-02', '2002-03', '2003-04', '2004-05',\n",
              "       '2005-06', '2006-07', '2007-08', '2008-09', '2009-10', '2010-11',\n",
              "       '2011-12', '2012-13', '2013-14', '2014-15', '2015-16', '1996-97',\n",
              "       '1997-98', '1998-99', '1999-00'], dtype=object)"
            ]
          },
          "metadata": {
            "tags": []
          },
          "execution_count": 14
        }
      ]
    },
    {
      "cell_type": "code",
      "metadata": {
        "colab": {
          "base_uri": "https://localhost:8080/"
        },
        "id": "PHPYA2My0VsZ",
        "outputId": "8081bb01-5618-4118-e3dd-cb3aa9bd6fc8"
      },
      "source": [
        "v_unique = np.arange(len(l_unique)) # obtaining values in the range of the length of I_unique\n",
        "v_unique"
      ],
      "execution_count": 15,
      "outputs": [
        {
          "output_type": "execute_result",
          "data": {
            "text/plain": [
              "array([ 0,  1,  2,  3,  4,  5,  6,  7,  8,  9, 10, 11, 12, 13, 14, 15, 16,\n",
              "       17, 18, 19, 20])"
            ]
          },
          "metadata": {
            "tags": []
          },
          "execution_count": 15
        }
      ]
    },
    {
      "cell_type": "code",
      "metadata": {
        "colab": {
          "base_uri": "https://localhost:8080/"
        },
        "id": "sg092NvP0VsZ",
        "outputId": "f89ed21a-18bb-4923-f966-e005a62e10a2"
      },
      "source": [
        "data['game_season'].replace(to_replace=l_unique, value=v_unique, inplace=True) # replacing categorical data with numerical values\n",
        "data['game_season'].head()"
      ],
      "execution_count": 16,
      "outputs": [
        {
          "output_type": "execute_result",
          "data": {
            "text/plain": [
              "0    0\n",
              "1    0\n",
              "2    0\n",
              "3    0\n",
              "4    0\n",
              "Name: game_season, dtype: int64"
            ]
          },
          "metadata": {
            "tags": []
          },
          "execution_count": 16
        }
      ]
    },
    {
      "cell_type": "code",
      "metadata": {
        "colab": {
          "base_uri": "https://localhost:8080/"
        },
        "id": "_T_9ovb20VsZ",
        "outputId": "e31ee128-8201-4384-817f-9a5e54ef84de"
      },
      "source": [
        "data['game_season'] = data['game_season'].astype('int') # converting the datatype of the column from int64 to int32\n",
        "data['game_season'].head()"
      ],
      "execution_count": 17,
      "outputs": [
        {
          "output_type": "execute_result",
          "data": {
            "text/plain": [
              "0    0\n",
              "1    0\n",
              "2    0\n",
              "3    0\n",
              "4    0\n",
              "Name: game_season, dtype: int64"
            ]
          },
          "metadata": {
            "tags": []
          },
          "execution_count": 17
        }
      ]
    },
    {
      "cell_type": "markdown",
      "metadata": {
        "id": "nvkvZTf30VsZ"
      },
      "source": [
        "#### 3. Handeling Missing Values\n"
      ]
    },
    {
      "cell_type": "code",
      "metadata": {
        "colab": {
          "base_uri": "https://localhost:8080/"
        },
        "id": "5fgBfpC-0VsZ",
        "outputId": "b5db6995-d563-43a2-db3f-90d1945614a2"
      },
      "source": [
        "# Filling NaN values in Column \"remaining_sec\" with MEAN\n",
        "data['power_of_shot'].fillna(value=data['power_of_shot'].mean(), inplace=True)\n",
        "data.isnull().sum() # number of missing values for power_of_shot column should be zero\n"
      ],
      "execution_count": 18,
      "outputs": [
        {
          "output_type": "execute_result",
          "data": {
            "text/plain": [
              "match_event_id            1563\n",
              "location_x                1461\n",
              "location_y                1540\n",
              "remaining_min             1562\n",
              "power_of_shot                0\n",
              "knockout_match            1517\n",
              "game_season                  0\n",
              "remaining_sec             1594\n",
              "distance_of_shot          1567\n",
              "is_goal                   6268\n",
              "area_of_shot              1502\n",
              "shot_basics               1575\n",
              "range_of_shot             1564\n",
              "team_name                 1535\n",
              "date_of_game              1550\n",
              "home/away                 1497\n",
              "shot_id_number            1563\n",
              "lat/lng                   1565\n",
              "type_of_shot             15280\n",
              "type_of_combined_shot    15417\n",
              "match_id                     0\n",
              "team_id                      0\n",
              "dtype: int64"
            ]
          },
          "metadata": {
            "tags": []
          },
          "execution_count": 18
        }
      ]
    },
    {
      "cell_type": "code",
      "metadata": {
        "colab": {
          "base_uri": "https://localhost:8080/"
        },
        "id": "-PFW3ice0Vsa",
        "outputId": "bad9bb40-97fc-4687-9890-584c9f054224"
      },
      "source": [
        "# Filling NaN values in Column \"type_of_combined_shot\" with MODE\n",
        "mode_com  = data.type_of_combined_shot.value_counts().keys()[0]\n",
        "print('moded is: ',mode_com)\n",
        "data.type_of_combined_shot.fillna(value=mode_com, inplace=True)\n",
        "data.isnull().sum() # number of missing values for type_of_combined_shot column should be zero"
      ],
      "execution_count": 19,
      "outputs": [
        {
          "output_type": "stream",
          "text": [
            "moded is:  shot - 3\n"
          ],
          "name": "stdout"
        },
        {
          "output_type": "execute_result",
          "data": {
            "text/plain": [
              "match_event_id            1563\n",
              "location_x                1461\n",
              "location_y                1540\n",
              "remaining_min             1562\n",
              "power_of_shot                0\n",
              "knockout_match            1517\n",
              "game_season                  0\n",
              "remaining_sec             1594\n",
              "distance_of_shot          1567\n",
              "is_goal                   6268\n",
              "area_of_shot              1502\n",
              "shot_basics               1575\n",
              "range_of_shot             1564\n",
              "team_name                 1535\n",
              "date_of_game              1550\n",
              "home/away                 1497\n",
              "shot_id_number            1563\n",
              "lat/lng                   1565\n",
              "type_of_shot             15280\n",
              "type_of_combined_shot        0\n",
              "match_id                     0\n",
              "team_id                      0\n",
              "dtype: int64"
            ]
          },
          "metadata": {
            "tags": []
          },
          "execution_count": 19
        }
      ]
    },
    {
      "cell_type": "code",
      "metadata": {
        "colab": {
          "base_uri": "https://localhost:8080/"
        },
        "id": "SLWWh7xs0Vsa",
        "outputId": "29945db3-8d87-463f-d772-2a030e3659d5"
      },
      "source": [
        "# Filling NaN values in Column \"remaining_sec\" with MEDIAN\n",
        "data.remaining_sec.fillna(value=data.remaining_sec.median(), inplace=True)\n",
        "data.isnull().sum() # number of missing values for remaining_sec column should be zero"
      ],
      "execution_count": 20,
      "outputs": [
        {
          "output_type": "execute_result",
          "data": {
            "text/plain": [
              "match_event_id            1563\n",
              "location_x                1461\n",
              "location_y                1540\n",
              "remaining_min             1562\n",
              "power_of_shot                0\n",
              "knockout_match            1517\n",
              "game_season                  0\n",
              "remaining_sec                0\n",
              "distance_of_shot          1567\n",
              "is_goal                   6268\n",
              "area_of_shot              1502\n",
              "shot_basics               1575\n",
              "range_of_shot             1564\n",
              "team_name                 1535\n",
              "date_of_game              1550\n",
              "home/away                 1497\n",
              "shot_id_number            1563\n",
              "lat/lng                   1565\n",
              "type_of_shot             15280\n",
              "type_of_combined_shot        0\n",
              "match_id                     0\n",
              "team_id                      0\n",
              "dtype: int64"
            ]
          },
          "metadata": {
            "tags": []
          },
          "execution_count": 20
        }
      ]
    },
    {
      "cell_type": "code",
      "metadata": {
        "colab": {
          "base_uri": "https://localhost:8080/"
        },
        "id": "cmFR5oYV0Vsa",
        "outputId": "a45c76a1-70fd-4803-8d3e-514c45ac1fbb"
      },
      "source": [
        "# Shot_id_no.\n",
        "data.shot_id_number = pd.Series(np.arange(1,data.shot_id_number.shape[0]+1))\n",
        "data.isnull().sum() # number of missing values for shot_id_number column should be zero"
      ],
      "execution_count": 21,
      "outputs": [
        {
          "output_type": "execute_result",
          "data": {
            "text/plain": [
              "match_event_id            1563\n",
              "location_x                1461\n",
              "location_y                1540\n",
              "remaining_min             1562\n",
              "power_of_shot                0\n",
              "knockout_match            1517\n",
              "game_season                  0\n",
              "remaining_sec                0\n",
              "distance_of_shot          1567\n",
              "is_goal                   6268\n",
              "area_of_shot              1502\n",
              "shot_basics               1575\n",
              "range_of_shot             1564\n",
              "team_name                 1535\n",
              "date_of_game              1550\n",
              "home/away                 1497\n",
              "shot_id_number               0\n",
              "lat/lng                   1565\n",
              "type_of_shot             15280\n",
              "type_of_combined_shot        0\n",
              "match_id                     0\n",
              "team_id                      0\n",
              "dtype: int64"
            ]
          },
          "metadata": {
            "tags": []
          },
          "execution_count": 21
        }
      ]
    },
    {
      "cell_type": "code",
      "metadata": {
        "colab": {
          "base_uri": "https://localhost:8080/"
        },
        "id": "qRG3NLFj0Vsa",
        "outputId": "626245e0-ab6b-4999-c605-40bdd3545372"
      },
      "source": [
        "# Filling NaN values in Columns \"location_x\" and \"location_y\" with 0\n",
        "data['location_x'].fillna(value=0, inplace=True)\n",
        "data['location_y'].fillna(value=0, inplace=True)\n",
        "data.isnull().sum() # number of missing values for location_x and location_y columns should be zero"
      ],
      "execution_count": 22,
      "outputs": [
        {
          "output_type": "execute_result",
          "data": {
            "text/plain": [
              "match_event_id            1563\n",
              "location_x                   0\n",
              "location_y                   0\n",
              "remaining_min             1562\n",
              "power_of_shot                0\n",
              "knockout_match            1517\n",
              "game_season                  0\n",
              "remaining_sec                0\n",
              "distance_of_shot          1567\n",
              "is_goal                   6268\n",
              "area_of_shot              1502\n",
              "shot_basics               1575\n",
              "range_of_shot             1564\n",
              "team_name                 1535\n",
              "date_of_game              1550\n",
              "home/away                 1497\n",
              "shot_id_number               0\n",
              "lat/lng                   1565\n",
              "type_of_shot             15280\n",
              "type_of_combined_shot        0\n",
              "match_id                     0\n",
              "team_id                      0\n",
              "dtype: int64"
            ]
          },
          "metadata": {
            "tags": []
          },
          "execution_count": 22
        }
      ]
    },
    {
      "cell_type": "code",
      "metadata": {
        "colab": {
          "base_uri": "https://localhost:8080/"
        },
        "id": "SnXfP4a50Vsb",
        "outputId": "ff21ee72-77ef-4037-d053-0c158b593eab"
      },
      "source": [
        "# Using Forward Filling method in appropriate Columns\n",
        "print('Null values in column home/away before forward fill =',data['home/away'].isnull().sum())\n",
        "col = ['home/away','lat/lng', 'team_name','match_id','match_event_id', 'team_id', 'remaining_min', 'knockout_match',  'game_season' ]\n",
        "data.loc[:,col] = data.loc[:,col].ffill()\n",
        "print('Null values in column home/away after the forward fill =',data['home/away'].isnull().sum())"
      ],
      "execution_count": 23,
      "outputs": [
        {
          "output_type": "stream",
          "text": [
            "Null values in column home/away before forward fill = 1497\n",
            "Null values in column home/away after the forward fill = 0\n"
          ],
          "name": "stdout"
        }
      ]
    },
    {
      "cell_type": "code",
      "metadata": {
        "colab": {
          "base_uri": "https://localhost:8080/"
        },
        "id": "pCftePm80Vsb",
        "outputId": "0432de1f-07fb-463a-8e3e-c6c7dd9c46a5"
      },
      "source": [
        "# Filling Missing Values In \"shot_basics\" based on \"range_of_short\" column!\n",
        "# if the range of the shot is 16-24 ft it's a mid range shot\n",
        "data.loc[(data.range_of_shot == '16-24 ft.'), 'shot_basics'] = data[data.range_of_shot == '16-24 ft.'].shot_basics.fillna(value='Mid Range')\n",
        "\n",
        "# if the range of the shot is less than 8 ft then randomly assign goal line or goal area value to the shot \n",
        "data.loc[(data.range_of_shot == 'Less Than 8 ft.')&(data.shot_basics.isnull()), 'shot_basics']   =  pd.Series(data[(data.range_of_shot == 'Less Than 8 ft.')&(data.shot_basics.isnull())].shot_basics.apply(lambda x: x if type(x)==str else np.random.choice(['Goal Area', 'Goal Line'],1,p=[0.7590347263095939, 0.24096527369040613])[0]))\n",
        "# if the range of the shot is  8-16 ft then randomly assign goal line or mid range value to the shot\n",
        "data.loc[(data.range_of_shot == '8-16 ft.')&(data.shot_basics.isnull()), 'shot_basics']          =  pd.Series(data[(data.range_of_shot == '8-16 ft.')&(data.shot_basics.isnull())].shot_basics.apply(lambda x: x if type(x)==str else np.random.choice(['Mid Range', 'Goal Line'],1,p=[0.6488754615642833, 0.35112453843571667])[0]))\n",
        "# if the range of the shot is more than 24 ft then randomly assign one of the values from'Penalty Spot', 'Right Corner', 'Left Corner' to shot_basic field\n",
        "data.loc[(data.range_of_shot == '24+ ft.')&(data.shot_basics.isnull()), 'shot_basics']            =  pd.Series(data[(data.range_of_shot == '24+ ft.')&(data.shot_basics.isnull())].shot_basics.apply(lambda x: x if type(x)==str else np.random.choice(['Penalty Spot', 'Right Corner', 'Left Corner'],1,p=[0.8932384341637011, 0.06192170818505338, 0.044839857651245554])[0]))\n",
        "# if the shot is a back court shot then randomly assign one of the values from''Mid Ground Line', 'Penalty Spot' to shot_basic field\n",
        "data.loc[(data.range_of_shot == 'Back Court Shot')&(data.shot_basics.isnull()), 'shot_basics']    =  pd.Series(data[(data.range_of_shot == 'Back Court Shot')&(data.shot_basics.isnull())].shot_basics.apply(lambda x: x if type(x)==str else np.random.choice(['Mid Ground Line', 'Penalty Spot'],1,p=[0.8441558441558441, 0.15584415584415584])[0]))\n",
        "data.isna().sum()"
      ],
      "execution_count": 24,
      "outputs": [
        {
          "output_type": "execute_result",
          "data": {
            "text/plain": [
              "match_event_id               0\n",
              "location_x                   0\n",
              "location_y                   0\n",
              "remaining_min                0\n",
              "power_of_shot                0\n",
              "knockout_match               0\n",
              "game_season                  0\n",
              "remaining_sec                0\n",
              "distance_of_shot          1567\n",
              "is_goal                   6268\n",
              "area_of_shot              1502\n",
              "shot_basics                 66\n",
              "range_of_shot             1564\n",
              "team_name                    0\n",
              "date_of_game              1550\n",
              "home/away                    0\n",
              "shot_id_number               0\n",
              "lat/lng                      0\n",
              "type_of_shot             15280\n",
              "type_of_combined_shot        0\n",
              "match_id                     0\n",
              "team_id                      0\n",
              "dtype: int64"
            ]
          },
          "metadata": {
            "tags": []
          },
          "execution_count": 24
        }
      ]
    },
    {
      "cell_type": "code",
      "metadata": {
        "colab": {
          "base_uri": "https://localhost:8080/"
        },
        "id": "qNCtnQO20Vsc",
        "outputId": "76c1bf48-ecad-4bae-ba9c-d3c0f788d7e1"
      },
      "source": [
        "data['shot_basics'].unique() # now we have populated the shot types and reduced the number of missing values. Earlier we had 1575 missing values for this column, now we have only 66."
      ],
      "execution_count": 25,
      "outputs": [
        {
          "output_type": "execute_result",
          "data": {
            "text/plain": [
              "array(['Mid Range', 'Goal Area', 'Goal Line', 'Penalty Spot', nan,\n",
              "       'Right Corner', 'Mid Ground Line', 'Left Corner'], dtype=object)"
            ]
          },
          "metadata": {
            "tags": []
          },
          "execution_count": 25
        }
      ]
    },
    {
      "cell_type": "code",
      "metadata": {
        "colab": {
          "base_uri": "https://localhost:8080/"
        },
        "id": "6WsgXFOr0Vsc",
        "outputId": "7e69c297-1780-428b-e4b8-4a32b1a868c4"
      },
      "source": [
        "# Filling Missing Values In \"range_of_short\" based on \"short_basics\" column!\n",
        "\n",
        "# if shot_basics is Goal Area, then range of shot is Less Than 8 ft\n",
        "data.loc[(data.shot_basics == 'Goal Area'), 'range_of_shot']       = data[data.shot_basics == 'Goal Area'].range_of_shot.fillna(value='Less Than 8 ft.')\n",
        "# if shot_basics is Penalty Spot, then range of shot is  24+ ft.\n",
        "data.loc[(data.shot_basics == 'Penalty Spot'), 'range_of_shot']    = data[data.shot_basics == 'Penalty Spot'].range_of_shot.fillna(value= '24+ ft.')\n",
        "# if shot_basics is Right Corner, then range of shot is  24+ ft.\n",
        "data.loc[(data.shot_basics == 'Right Corner'), 'range_of_shot']    = data[data.shot_basics == 'Right Corner'].range_of_shot.fillna(value='24+ ft.')\n",
        "# if shot_basics is Left Corner, then range of shot is  24+ ft.\n",
        "data.loc[(data.shot_basics == 'Left Corner'), 'range_of_shot']     = data[data.shot_basics == 'Left Corner'].range_of_shot.fillna(value='24+ ft.')\n",
        "# if shot_basics is Mid Ground Line , then range of shot is  Back Court Shot\n",
        "data.loc[(data.shot_basics == 'Mid Ground Line'), 'range_of_shot'] = data[data.shot_basics == 'Mid Ground Line'].range_of_shot.fillna(value='Back Court Shot')\n",
        "# if shot_basics is Mid Range then randomly assign '16-24 ft.' or  '8-16 ft.' to range of shot\n",
        "data.loc[(data.shot_basics == 'Mid Range')&(data.range_of_shot.isnull()), 'range_of_shot']       = pd.Series(data[(data.shot_basics == 'Mid Range')&(data.range_of_shot.isnull())].range_of_shot.apply(lambda x: x if type(x)==str else np.random.choice(['16-24 ft.', '8-16 ft.'],1,p=[0.6527708850289495, 0.34722911497105047])[0]))\n",
        "# if shot_basics is Goal Line then randomly assign ''8-16 ft.' or  'Less Than 8 ft.' to range of shot\n",
        "data.loc[(data.shot_basics == 'Goal Line')&(data.range_of_shot.isnull()), 'range_of_shot']       = pd.Series(data[(data.shot_basics == 'Goal Line')&(data.range_of_shot.isnull())].range_of_shot.apply(lambda x: x if type(x)==str else np.random.choice(['8-16 ft.', 'Less Than 8 ft.'],1,p=[0.5054360956752839, 0.49456390432471614])[0]))\n",
        "\n",
        "data.isnull().sum() # number of missing values for range_of_shot column should have been reduced"
      ],
      "execution_count": 26,
      "outputs": [
        {
          "output_type": "execute_result",
          "data": {
            "text/plain": [
              "match_event_id               0\n",
              "location_x                   0\n",
              "location_y                   0\n",
              "remaining_min                0\n",
              "power_of_shot                0\n",
              "knockout_match               0\n",
              "game_season                  0\n",
              "remaining_sec                0\n",
              "distance_of_shot          1567\n",
              "is_goal                   6268\n",
              "area_of_shot              1502\n",
              "shot_basics                 66\n",
              "range_of_shot               66\n",
              "team_name                    0\n",
              "date_of_game              1550\n",
              "home/away                    0\n",
              "shot_id_number               0\n",
              "lat/lng                      0\n",
              "type_of_shot             15280\n",
              "type_of_combined_shot        0\n",
              "match_id                     0\n",
              "team_id                      0\n",
              "dtype: int64"
            ]
          },
          "metadata": {
            "tags": []
          },
          "execution_count": 26
        }
      ]
    },
    {
      "cell_type": "code",
      "metadata": {
        "colab": {
          "base_uri": "https://localhost:8080/"
        },
        "id": "MOmLxY6O0Vsd",
        "outputId": "716d9c6d-50a2-4722-adf8-0c6b592c3962"
      },
      "source": [
        "data['range_of_shot'].unique() # the number of missing values has fallen from 1564 to 66"
      ],
      "execution_count": 27,
      "outputs": [
        {
          "output_type": "execute_result",
          "data": {
            "text/plain": [
              "array(['16-24 ft.', '8-16 ft.', 'Less Than 8 ft.', '24+ ft.', nan,\n",
              "       'Back Court Shot'], dtype=object)"
            ]
          },
          "metadata": {
            "tags": []
          },
          "execution_count": 27
        }
      ]
    },
    {
      "cell_type": "code",
      "metadata": {
        "colab": {
          "base_uri": "https://localhost:8080/"
        },
        "id": "sWhRudQf0Vsd",
        "outputId": "4774d9ec-7455-49aa-b821-4ed408fe91b4"
      },
      "source": [
        "# Filling the remaining missing values incase they both have NaN values using the forward fill method\n",
        "data.shot_basics.fillna(method='ffill', inplace=True)\n",
        "data.range_of_shot.fillna(method='ffill', inplace=True)\n",
        "data.isnull().sum() # number of missing values for shot_basics and range_of_shot columns should be zero"
      ],
      "execution_count": 28,
      "outputs": [
        {
          "output_type": "execute_result",
          "data": {
            "text/plain": [
              "match_event_id               0\n",
              "location_x                   0\n",
              "location_y                   0\n",
              "remaining_min                0\n",
              "power_of_shot                0\n",
              "knockout_match               0\n",
              "game_season                  0\n",
              "remaining_sec                0\n",
              "distance_of_shot          1567\n",
              "is_goal                   6268\n",
              "area_of_shot              1502\n",
              "shot_basics                  0\n",
              "range_of_shot                0\n",
              "team_name                    0\n",
              "date_of_game              1550\n",
              "home/away                    0\n",
              "shot_id_number               0\n",
              "lat/lng                      0\n",
              "type_of_shot             15280\n",
              "type_of_combined_shot        0\n",
              "match_id                     0\n",
              "team_id                      0\n",
              "dtype: int64"
            ]
          },
          "metadata": {
            "tags": []
          },
          "execution_count": 28
        }
      ]
    },
    {
      "cell_type": "code",
      "metadata": {
        "colab": {
          "base_uri": "https://localhost:8080/"
        },
        "id": "sV5yUmOw0Vsd",
        "outputId": "650c3f23-0df5-4925-ba2f-c88602641adf"
      },
      "source": [
        "# Filling the missing value in \"ärea_of_short\" Column\n",
        "data.area_of_shot.fillna(value='Center(C)', inplace=True) # all the missing values get filled by  'Centre(C)'\n",
        "data.isnull().sum() # number of missing values for area_of_shot column should be zero"
      ],
      "execution_count": 29,
      "outputs": [
        {
          "output_type": "execute_result",
          "data": {
            "text/plain": [
              "match_event_id               0\n",
              "location_x                   0\n",
              "location_y                   0\n",
              "remaining_min                0\n",
              "power_of_shot                0\n",
              "knockout_match               0\n",
              "game_season                  0\n",
              "remaining_sec                0\n",
              "distance_of_shot          1567\n",
              "is_goal                   6268\n",
              "area_of_shot                 0\n",
              "shot_basics                  0\n",
              "range_of_shot                0\n",
              "team_name                    0\n",
              "date_of_game              1550\n",
              "home/away                    0\n",
              "shot_id_number               0\n",
              "lat/lng                      0\n",
              "type_of_shot             15280\n",
              "type_of_combined_shot        0\n",
              "match_id                     0\n",
              "team_id                      0\n",
              "dtype: int64"
            ]
          },
          "metadata": {
            "tags": []
          },
          "execution_count": 29
        }
      ]
    },
    {
      "cell_type": "code",
      "metadata": {
        "colab": {
          "base_uri": "https://localhost:8080/"
        },
        "id": "fWAYPFQU0Vse",
        "outputId": "ca902ab6-bdef-4490-c6d8-3fcba030575e"
      },
      "source": [
        "data['distance_of_shot'].unique()"
      ],
      "execution_count": 30,
      "outputs": [
        {
          "output_type": "execute_result",
          "data": {
            "text/plain": [
              "array([38., 35., 36., 42., 20., 34., 22., 32., 45., 37., nan, 29., 25.,\n",
              "       40., 31., 27., 46., 39., 28., 33., 21., 47., 48., 44., 43., 24.,\n",
              "       41., 67., 30., 49., 62., 23., 68., 50., 65., 26., 53., 56., 82.,\n",
              "       51., 90., 63., 58., 57., 60., 52., 76., 55., 75., 71., 88., 59.,\n",
              "       61., 84., 70., 69., 79., 80., 74., 94., 64., 81., 85., 72., 54.,\n",
              "       66., 78., 89., 77., 73., 87., 91., 97., 99.])"
            ]
          },
          "metadata": {
            "tags": []
          },
          "execution_count": 30
        }
      ]
    },
    {
      "cell_type": "code",
      "metadata": {
        "colab": {
          "base_uri": "https://localhost:8080/"
        },
        "id": "kkXCD2jg0Vse",
        "outputId": "ac9c993b-3a86-47f6-d81b-352d2d98c5ef"
      },
      "source": [
        "#Filling the Missing values in \"distance_of_shot\"\n",
        "# if distance_of_shot isnull randomly assign a value from 20,45,44,37\n",
        "data.loc[data['distance_of_shot'].isnull(), 'distance_of_shot'] = pd.Series(data.loc[data['distance_of_shot'].isnull(), 'distance_of_shot'].apply(lambda x: x if type(x)==str else np.random.choice([20,45,44,37],1,p=[0.5278056615137523,0.18630797028709095,0.14384661714515157,0.1420397510540052])[0])) \n",
        "data.isnull().sum() # number of missing values for distance_of_shot column should be zero"
      ],
      "execution_count": 31,
      "outputs": [
        {
          "output_type": "execute_result",
          "data": {
            "text/plain": [
              "match_event_id               0\n",
              "location_x                   0\n",
              "location_y                   0\n",
              "remaining_min                0\n",
              "power_of_shot                0\n",
              "knockout_match               0\n",
              "game_season                  0\n",
              "remaining_sec                0\n",
              "distance_of_shot             0\n",
              "is_goal                   6268\n",
              "area_of_shot                 0\n",
              "shot_basics                  0\n",
              "range_of_shot                0\n",
              "team_name                    0\n",
              "date_of_game              1550\n",
              "home/away                    0\n",
              "shot_id_number               0\n",
              "lat/lng                      0\n",
              "type_of_shot             15280\n",
              "type_of_combined_shot        0\n",
              "match_id                     0\n",
              "team_id                      0\n",
              "dtype: int64"
            ]
          },
          "metadata": {
            "tags": []
          },
          "execution_count": 31
        }
      ]
    },
    {
      "cell_type": "markdown",
      "metadata": {
        "id": "uBfEKMPB0Vse"
      },
      "source": [
        "## Making the Train and Test Dataset"
      ]
    },
    {
      "cell_type": "markdown",
      "metadata": {
        "id": "BN6EurE20Vse"
      },
      "source": [
        "##### # train and test data are divided based on the vaue of is goal column"
      ]
    },
    {
      "cell_type": "code",
      "metadata": {
        "colab": {
          "base_uri": "https://localhost:8080/",
          "height": 317
        },
        "id": "r8pU7plR0Vsf",
        "outputId": "e25609c6-527d-4e37-aed3-beb252a3b185"
      },
      "source": [
        "\n",
        "# Making the train Dataset\n",
        "train = data[data.is_goal.notnull()]\n",
        "print('the Shape of Train Dataset',train.shape)\n",
        "train.set_index(np.arange(train.shape[0]),inplace=True)\n",
        "train.head()\n"
      ],
      "execution_count": 32,
      "outputs": [
        {
          "output_type": "stream",
          "text": [
            "the Shape of Train Dataset (24429, 22)\n"
          ],
          "name": "stdout"
        },
        {
          "output_type": "execute_result",
          "data": {
            "text/html": [
              "<div>\n",
              "<style scoped>\n",
              "    .dataframe tbody tr th:only-of-type {\n",
              "        vertical-align: middle;\n",
              "    }\n",
              "\n",
              "    .dataframe tbody tr th {\n",
              "        vertical-align: top;\n",
              "    }\n",
              "\n",
              "    .dataframe thead th {\n",
              "        text-align: right;\n",
              "    }\n",
              "</style>\n",
              "<table border=\"1\" class=\"dataframe\">\n",
              "  <thead>\n",
              "    <tr style=\"text-align: right;\">\n",
              "      <th></th>\n",
              "      <th>match_event_id</th>\n",
              "      <th>location_x</th>\n",
              "      <th>location_y</th>\n",
              "      <th>remaining_min</th>\n",
              "      <th>power_of_shot</th>\n",
              "      <th>knockout_match</th>\n",
              "      <th>game_season</th>\n",
              "      <th>remaining_sec</th>\n",
              "      <th>distance_of_shot</th>\n",
              "      <th>is_goal</th>\n",
              "      <th>area_of_shot</th>\n",
              "      <th>shot_basics</th>\n",
              "      <th>range_of_shot</th>\n",
              "      <th>team_name</th>\n",
              "      <th>date_of_game</th>\n",
              "      <th>home/away</th>\n",
              "      <th>shot_id_number</th>\n",
              "      <th>lat/lng</th>\n",
              "      <th>type_of_shot</th>\n",
              "      <th>type_of_combined_shot</th>\n",
              "      <th>match_id</th>\n",
              "      <th>team_id</th>\n",
              "    </tr>\n",
              "  </thead>\n",
              "  <tbody>\n",
              "    <tr>\n",
              "      <th>0</th>\n",
              "      <td>12.0</td>\n",
              "      <td>-157.0</td>\n",
              "      <td>0.0</td>\n",
              "      <td>10.0</td>\n",
              "      <td>1.0</td>\n",
              "      <td>0.0</td>\n",
              "      <td>0</td>\n",
              "      <td>22.0</td>\n",
              "      <td>35.0</td>\n",
              "      <td>0.0</td>\n",
              "      <td>Left Side(L)</td>\n",
              "      <td>Mid Range</td>\n",
              "      <td>8-16 ft.</td>\n",
              "      <td>Manchester United</td>\n",
              "      <td>2000-10-31</td>\n",
              "      <td>MANU @ POR</td>\n",
              "      <td>2</td>\n",
              "      <td>45.539131, -122.651648</td>\n",
              "      <td>shot - 45</td>\n",
              "      <td>shot - 3</td>\n",
              "      <td>20000012</td>\n",
              "      <td>1610612747</td>\n",
              "    </tr>\n",
              "    <tr>\n",
              "      <th>1</th>\n",
              "      <td>35.0</td>\n",
              "      <td>-101.0</td>\n",
              "      <td>135.0</td>\n",
              "      <td>7.0</td>\n",
              "      <td>1.0</td>\n",
              "      <td>0.0</td>\n",
              "      <td>0</td>\n",
              "      <td>45.0</td>\n",
              "      <td>36.0</td>\n",
              "      <td>1.0</td>\n",
              "      <td>Left Side Center(LC)</td>\n",
              "      <td>Mid Range</td>\n",
              "      <td>16-24 ft.</td>\n",
              "      <td>Manchester United</td>\n",
              "      <td>2000-10-31</td>\n",
              "      <td>MANU @ POR</td>\n",
              "      <td>3</td>\n",
              "      <td>45.539131, -122.651648</td>\n",
              "      <td>shot - 25</td>\n",
              "      <td>shot - 3</td>\n",
              "      <td>20000012</td>\n",
              "      <td>1610612747</td>\n",
              "    </tr>\n",
              "    <tr>\n",
              "      <th>2</th>\n",
              "      <td>43.0</td>\n",
              "      <td>138.0</td>\n",
              "      <td>175.0</td>\n",
              "      <td>6.0</td>\n",
              "      <td>1.0</td>\n",
              "      <td>0.0</td>\n",
              "      <td>0</td>\n",
              "      <td>52.0</td>\n",
              "      <td>42.0</td>\n",
              "      <td>0.0</td>\n",
              "      <td>Right Side Center(RC)</td>\n",
              "      <td>Mid Range</td>\n",
              "      <td>16-24 ft.</td>\n",
              "      <td>Manchester United</td>\n",
              "      <td>2000-10-31</td>\n",
              "      <td>MANU @ POR</td>\n",
              "      <td>4</td>\n",
              "      <td>45.539131, -122.651648</td>\n",
              "      <td>NaN</td>\n",
              "      <td>shot - 3</td>\n",
              "      <td>20000012</td>\n",
              "      <td>1610612747</td>\n",
              "    </tr>\n",
              "    <tr>\n",
              "      <th>3</th>\n",
              "      <td>155.0</td>\n",
              "      <td>0.0</td>\n",
              "      <td>0.0</td>\n",
              "      <td>6.0</td>\n",
              "      <td>2.0</td>\n",
              "      <td>0.0</td>\n",
              "      <td>0</td>\n",
              "      <td>19.0</td>\n",
              "      <td>20.0</td>\n",
              "      <td>1.0</td>\n",
              "      <td>Center(C)</td>\n",
              "      <td>Goal Area</td>\n",
              "      <td>Less Than 8 ft.</td>\n",
              "      <td>Manchester United</td>\n",
              "      <td>2000-10-31</td>\n",
              "      <td>MANU @ POR</td>\n",
              "      <td>5</td>\n",
              "      <td>45.539131, -122.651648</td>\n",
              "      <td>NaN</td>\n",
              "      <td>shot - 1</td>\n",
              "      <td>20000012</td>\n",
              "      <td>1610612747</td>\n",
              "    </tr>\n",
              "    <tr>\n",
              "      <th>4</th>\n",
              "      <td>244.0</td>\n",
              "      <td>-145.0</td>\n",
              "      <td>-11.0</td>\n",
              "      <td>9.0</td>\n",
              "      <td>3.0</td>\n",
              "      <td>0.0</td>\n",
              "      <td>1</td>\n",
              "      <td>32.0</td>\n",
              "      <td>34.0</td>\n",
              "      <td>0.0</td>\n",
              "      <td>Left Side(L)</td>\n",
              "      <td>Mid Range</td>\n",
              "      <td>8-16 ft.</td>\n",
              "      <td>Manchester United</td>\n",
              "      <td>2000-10-31</td>\n",
              "      <td>MANU @ POR</td>\n",
              "      <td>6</td>\n",
              "      <td>45.539131, -122.651648</td>\n",
              "      <td>shot - 17</td>\n",
              "      <td>shot - 3</td>\n",
              "      <td>20000012</td>\n",
              "      <td>1610612747</td>\n",
              "    </tr>\n",
              "  </tbody>\n",
              "</table>\n",
              "</div>"
            ],
            "text/plain": [
              "   match_event_id  location_x  ...  match_id     team_id\n",
              "0            12.0      -157.0  ...  20000012  1610612747\n",
              "1            35.0      -101.0  ...  20000012  1610612747\n",
              "2            43.0       138.0  ...  20000012  1610612747\n",
              "3           155.0         0.0  ...  20000012  1610612747\n",
              "4           244.0      -145.0  ...  20000012  1610612747\n",
              "\n",
              "[5 rows x 22 columns]"
            ]
          },
          "metadata": {
            "tags": []
          },
          "execution_count": 32
        }
      ]
    },
    {
      "cell_type": "code",
      "metadata": {
        "colab": {
          "base_uri": "https://localhost:8080/",
          "height": 317
        },
        "id": "JBbXXzzA0Vsf",
        "outputId": "96e86a7d-bd85-4a70-eeef-9e16840bc51f"
      },
      "source": [
        "# Making the Test Dataset\n",
        "test = data[data.is_goal.isnull()]\n",
        "print('The Shape of Test Dataset',test.shape)\n",
        "test.set_index(np.arange(test.shape[0]), inplace=True)\n",
        "test.head()"
      ],
      "execution_count": 33,
      "outputs": [
        {
          "output_type": "stream",
          "text": [
            "The Shape of Test Dataset (6268, 22)\n"
          ],
          "name": "stdout"
        },
        {
          "output_type": "execute_result",
          "data": {
            "text/html": [
              "<div>\n",
              "<style scoped>\n",
              "    .dataframe tbody tr th:only-of-type {\n",
              "        vertical-align: middle;\n",
              "    }\n",
              "\n",
              "    .dataframe tbody tr th {\n",
              "        vertical-align: top;\n",
              "    }\n",
              "\n",
              "    .dataframe thead th {\n",
              "        text-align: right;\n",
              "    }\n",
              "</style>\n",
              "<table border=\"1\" class=\"dataframe\">\n",
              "  <thead>\n",
              "    <tr style=\"text-align: right;\">\n",
              "      <th></th>\n",
              "      <th>match_event_id</th>\n",
              "      <th>location_x</th>\n",
              "      <th>location_y</th>\n",
              "      <th>remaining_min</th>\n",
              "      <th>power_of_shot</th>\n",
              "      <th>knockout_match</th>\n",
              "      <th>game_season</th>\n",
              "      <th>remaining_sec</th>\n",
              "      <th>distance_of_shot</th>\n",
              "      <th>is_goal</th>\n",
              "      <th>area_of_shot</th>\n",
              "      <th>shot_basics</th>\n",
              "      <th>range_of_shot</th>\n",
              "      <th>team_name</th>\n",
              "      <th>date_of_game</th>\n",
              "      <th>home/away</th>\n",
              "      <th>shot_id_number</th>\n",
              "      <th>lat/lng</th>\n",
              "      <th>type_of_shot</th>\n",
              "      <th>type_of_combined_shot</th>\n",
              "      <th>match_id</th>\n",
              "      <th>team_id</th>\n",
              "    </tr>\n",
              "  </thead>\n",
              "  <tbody>\n",
              "    <tr>\n",
              "      <th>0</th>\n",
              "      <td>10.0</td>\n",
              "      <td>167.0</td>\n",
              "      <td>72.0</td>\n",
              "      <td>10.0</td>\n",
              "      <td>1.0</td>\n",
              "      <td>0.0</td>\n",
              "      <td>0</td>\n",
              "      <td>27.0</td>\n",
              "      <td>38.0</td>\n",
              "      <td>NaN</td>\n",
              "      <td>Right Side(R)</td>\n",
              "      <td>Mid Range</td>\n",
              "      <td>16-24 ft.</td>\n",
              "      <td>Manchester United</td>\n",
              "      <td>2000-10-31</td>\n",
              "      <td>MANU @ POR</td>\n",
              "      <td>1</td>\n",
              "      <td>45.539131, -122.651648</td>\n",
              "      <td>shot - 30</td>\n",
              "      <td>shot - 3</td>\n",
              "      <td>20000012</td>\n",
              "      <td>1610612747</td>\n",
              "    </tr>\n",
              "    <tr>\n",
              "      <th>1</th>\n",
              "      <td>254.0</td>\n",
              "      <td>1.0</td>\n",
              "      <td>28.0</td>\n",
              "      <td>8.0</td>\n",
              "      <td>3.0</td>\n",
              "      <td>0.0</td>\n",
              "      <td>0</td>\n",
              "      <td>5.0</td>\n",
              "      <td>22.0</td>\n",
              "      <td>NaN</td>\n",
              "      <td>Center(C)</td>\n",
              "      <td>Goal Area</td>\n",
              "      <td>Less Than 8 ft.</td>\n",
              "      <td>Manchester United</td>\n",
              "      <td>2000-10-31</td>\n",
              "      <td>MANU @ POR</td>\n",
              "      <td>8</td>\n",
              "      <td>45.539131, -122.651648</td>\n",
              "      <td>NaN</td>\n",
              "      <td>shot - 3</td>\n",
              "      <td>20000012</td>\n",
              "      <td>1610612747</td>\n",
              "    </tr>\n",
              "    <tr>\n",
              "      <th>2</th>\n",
              "      <td>100.0</td>\n",
              "      <td>0.0</td>\n",
              "      <td>0.0</td>\n",
              "      <td>0.0</td>\n",
              "      <td>1.0</td>\n",
              "      <td>0.0</td>\n",
              "      <td>0</td>\n",
              "      <td>1.0</td>\n",
              "      <td>20.0</td>\n",
              "      <td>NaN</td>\n",
              "      <td>Center(C)</td>\n",
              "      <td>Goal Area</td>\n",
              "      <td>Less Than 8 ft.</td>\n",
              "      <td>Manchester United</td>\n",
              "      <td>2000-11-01</td>\n",
              "      <td>MANU vs. UTA</td>\n",
              "      <td>17</td>\n",
              "      <td>42.982923, -71.446094</td>\n",
              "      <td>NaN</td>\n",
              "      <td>shot - 4</td>\n",
              "      <td>20000019</td>\n",
              "      <td>1610612747</td>\n",
              "    </tr>\n",
              "    <tr>\n",
              "      <th>3</th>\n",
              "      <td>249.0</td>\n",
              "      <td>0.0</td>\n",
              "      <td>0.0</td>\n",
              "      <td>10.0</td>\n",
              "      <td>3.0</td>\n",
              "      <td>0.0</td>\n",
              "      <td>1</td>\n",
              "      <td>46.0</td>\n",
              "      <td>20.0</td>\n",
              "      <td>NaN</td>\n",
              "      <td>Center(C)</td>\n",
              "      <td>Goal Area</td>\n",
              "      <td>Less Than 8 ft.</td>\n",
              "      <td>Manchester United</td>\n",
              "      <td>2000-11-01</td>\n",
              "      <td>MANU vs. UTA</td>\n",
              "      <td>20</td>\n",
              "      <td>42.982923, -71.446094</td>\n",
              "      <td>shot - 4</td>\n",
              "      <td>shot - 3</td>\n",
              "      <td>20000019</td>\n",
              "      <td>1610612747</td>\n",
              "    </tr>\n",
              "    <tr>\n",
              "      <th>4</th>\n",
              "      <td>265.0</td>\n",
              "      <td>134.0</td>\n",
              "      <td>127.0</td>\n",
              "      <td>9.0</td>\n",
              "      <td>3.0</td>\n",
              "      <td>0.0</td>\n",
              "      <td>1</td>\n",
              "      <td>4.0</td>\n",
              "      <td>38.0</td>\n",
              "      <td>NaN</td>\n",
              "      <td>Right Side Center(RC)</td>\n",
              "      <td>Mid Range</td>\n",
              "      <td>16-24 ft.</td>\n",
              "      <td>Manchester United</td>\n",
              "      <td>2000-11-01</td>\n",
              "      <td>MANU vs. UTA</td>\n",
              "      <td>22</td>\n",
              "      <td>42.982923, -71.446094</td>\n",
              "      <td>shot - 24</td>\n",
              "      <td>shot - 3</td>\n",
              "      <td>20000019</td>\n",
              "      <td>1610612747</td>\n",
              "    </tr>\n",
              "  </tbody>\n",
              "</table>\n",
              "</div>"
            ],
            "text/plain": [
              "   match_event_id  location_x  ...  match_id     team_id\n",
              "0            10.0       167.0  ...  20000012  1610612747\n",
              "1           254.0         1.0  ...  20000012  1610612747\n",
              "2           100.0         0.0  ...  20000019  1610612747\n",
              "3           249.0         0.0  ...  20000019  1610612747\n",
              "4           265.0       134.0  ...  20000019  1610612747\n",
              "\n",
              "[5 rows x 22 columns]"
            ]
          },
          "metadata": {
            "tags": []
          },
          "execution_count": 33
        }
      ]
    },
    {
      "cell_type": "markdown",
      "metadata": {
        "id": "k5_FVRJ80Vsf"
      },
      "source": [
        "##### Handeling Missing Values in train and Test Dataset"
      ]
    },
    {
      "cell_type": "markdown",
      "metadata": {
        "id": "QBdA1VnD0Vsf"
      },
      "source": [
        "#### Filling the Nan value with a random choice from given list with there appropriate probablities\n"
      ]
    },
    {
      "cell_type": "code",
      "metadata": {
        "colab": {
          "base_uri": "https://localhost:8080/"
        },
        "id": "IqqIfFZ30Vsg",
        "outputId": "b24cee3a-a294-4213-9795-95cb297b43f9"
      },
      "source": [
        "l_goal   = train[train.is_goal == 1].type_of_shot.value_counts().head(6).keys()     # Top six shots when it was goal\n",
        "l_goal"
      ],
      "execution_count": 34,
      "outputs": [
        {
          "output_type": "execute_result",
          "data": {
            "text/plain": [
              "Index(['shot - 4', 'shot - 39', 'shot - 44', 'shot - 36', 'shot - 15',\n",
              "       'shot - 38'],\n",
              "      dtype='object')"
            ]
          },
          "metadata": {
            "tags": []
          },
          "execution_count": 34
        }
      ]
    },
    {
      "cell_type": "code",
      "metadata": {
        "colab": {
          "base_uri": "https://localhost:8080/"
        },
        "id": "weCVO-gZ0Vsg",
        "outputId": "965abaed-a7ee-4616-c47e-181f5f145580"
      },
      "source": [
        "p_g_sum  = train[train.is_goal == 1].type_of_shot.value_counts().head(6).sum() # Top six shots when it was goal\n",
        "p_goal   = (train[train.is_goal == 1].type_of_shot.value_counts().head(6) / p_g_sum ).tolist()  # There respective probablities\n",
        "p_goal"
      ],
      "execution_count": 35,
      "outputs": [
        {
          "output_type": "execute_result",
          "data": {
            "text/plain": [
              "[0.2682060390763766,\n",
              " 0.19182948490230906,\n",
              " 0.14653641207815277,\n",
              " 0.1447602131438721,\n",
              " 0.12966252220248667,\n",
              " 0.11900532859680284]"
            ]
          },
          "metadata": {
            "tags": []
          },
          "execution_count": 35
        }
      ]
    },
    {
      "cell_type": "code",
      "metadata": {
        "colab": {
          "base_uri": "https://localhost:8080/"
        },
        "id": "iQUV1hHC0Vsg",
        "outputId": "7d65a668-0ab7-43f0-9d81-3dc13fcf8932"
      },
      "source": [
        "# if is_goal is 1, if type of shot is a string value, fill with the same or else fill with randomly choosing value from l_goal\n",
        "g = pd.Series(train[train.is_goal == 1].type_of_shot.apply(lambda x: x if type(x)==str else np.random.choice(l_goal,1,p=p_goal)[0]))\n",
        "g"
      ],
      "execution_count": 36,
      "outputs": [
        {
          "output_type": "execute_result",
          "data": {
            "text/plain": [
              "1        shot - 25\n",
              "3        shot - 36\n",
              "5        shot - 36\n",
              "6        shot - 36\n",
              "9        shot - 36\n",
              "           ...    \n",
              "24411    shot - 33\n",
              "24413    shot - 44\n",
              "24415    shot - 44\n",
              "24421    shot - 39\n",
              "24426    shot - 39\n",
              "Name: type_of_shot, Length: 10879, dtype: object"
            ]
          },
          "metadata": {
            "tags": []
          },
          "execution_count": 36
        }
      ]
    },
    {
      "cell_type": "code",
      "metadata": {
        "id": "KO5rU5ef0Vsg"
      },
      "source": [
        "# # if is_goal is 1, if type of shot is null then type of shot becomes equal to the value of g based on the index\n",
        "train.loc[(train.is_goal == 1)&(train.type_of_shot.isnull()), 'type_of_shot'] = g"
      ],
      "execution_count": 37,
      "outputs": []
    },
    {
      "cell_type": "code",
      "metadata": {
        "colab": {
          "base_uri": "https://localhost:8080/"
        },
        "id": "N93G3jlA0Vsg",
        "outputId": "28a314df-740b-4a5a-ea69-02d3525f5a28"
      },
      "source": [
        "train['type_of_shot'].isna().sum() # number of missing values got reduced from more than 15k to 6723"
      ],
      "execution_count": 38,
      "outputs": [
        {
          "output_type": "execute_result",
          "data": {
            "text/plain": [
              "6723"
            ]
          },
          "metadata": {
            "tags": []
          },
          "execution_count": 38
        }
      ]
    },
    {
      "cell_type": "markdown",
      "metadata": {
        "id": "zpDlkSun0Vsg"
      },
      "source": [
        "#### and we have applied similar concept for the scenarios when there was no goal"
      ]
    },
    {
      "cell_type": "code",
      "metadata": {
        "colab": {
          "base_uri": "https://localhost:8080/"
        },
        "id": "Ae9aCFH_0Vsh",
        "outputId": "bed2722c-a93e-447f-c8d3-328a4ad11e46"
      },
      "source": [
        "l_no_goal   = train[train.is_goal == 0].type_of_shot.value_counts().head(5).keys()     # Top five shots when it was not a goal\n",
        "p_no_sum  = train[train.is_goal == 0].type_of_shot.value_counts().head(5).sum()\n",
        "p_no_goal   = (train[train.is_goal == 0].type_of_shot.value_counts().head(5) / p_no_sum ).tolist() # There respective probablities \n",
        "ng = pd.Series(train[train.is_goal == 0].type_of_shot.apply(lambda x: x if type(x)==str else np.random.choice(l_no_goal,1,p=p_no_goal)[0]))\n",
        "train.loc[(train.is_goal == 0)&(train.type_of_shot.isnull()), 'type_of_shot'] = ng \n",
        "train['type_of_shot'].isna().sum() # number of missing values got reduced to zero"
      ],
      "execution_count": 39,
      "outputs": [
        {
          "output_type": "execute_result",
          "data": {
            "text/plain": [
              "0"
            ]
          },
          "metadata": {
            "tags": []
          },
          "execution_count": 39
        }
      ]
    },
    {
      "cell_type": "code",
      "metadata": {
        "id": "hCf16IEN0Vsh"
      },
      "source": [
        "#Handeling the remaing values in test dataset with a smilira approach\n",
        "test.loc[test['type_of_shot'].isnull(), 'type_of_shot'] = pd.Series(test.loc[test['type_of_shot'].isnull(), 'type_of_shot'].apply(lambda x: x if type(x)==str else np.random.choice(['shot - 39', 'shot - 36', 'shot - 4'],1,p=[0.37377133988618727, 0.33419555095706155, 0.2920331091567512])[0])) \n"
      ],
      "execution_count": 40,
      "outputs": []
    },
    {
      "cell_type": "code",
      "metadata": {
        "colab": {
          "base_uri": "https://localhost:8080/"
        },
        "id": "ytj8Jg860Vsh",
        "outputId": "4c7a074d-8adc-4da4-b004-5f2918943e3d"
      },
      "source": [
        "test['type_of_shot'].isna().sum() # we have removed the missing values from test set as well"
      ],
      "execution_count": 41,
      "outputs": [
        {
          "output_type": "execute_result",
          "data": {
            "text/plain": [
              "0"
            ]
          },
          "metadata": {
            "tags": []
          },
          "execution_count": 41
        }
      ]
    },
    {
      "cell_type": "markdown",
      "metadata": {
        "id": "Y01MgTt-0Vsh"
      },
      "source": [
        "###  Label Encoding the Object type Columns"
      ]
    },
    {
      "cell_type": "code",
      "metadata": {
        "colab": {
          "base_uri": "https://localhost:8080/"
        },
        "id": "uE7nIY6Q0Vsh",
        "outputId": "9c3b9460-11b2-4928-ac0f-e19a0ae615cf"
      },
      "source": [
        "%%time\n",
        "# Labeling the catagories with integers\n",
        "for col in train.columns:\n",
        "    if train[col].dtypes == object: # if the column has categorical values\n",
        "        l_unique = train[col].unique() # find the unique values\n",
        "        v_unique = np.arange(len(l_unique)) # create a list of number from zero to the length of the I_unique values\n",
        "        train[col].replace(to_replace=l_unique, value=v_unique, inplace=True) # replace the categorical values with numerical values\n",
        "        train[col] = train[col].astype('int') # change the type from int64 to int32\n",
        "        \n",
        "        # same has been done for test data as well\n",
        "        test[col].replace(to_replace=l_unique, value=v_unique, inplace=True)\n",
        "        test[col] = test[col].astype('int')\n",
        "        "
      ],
      "execution_count": 42,
      "outputs": [
        {
          "output_type": "stream",
          "text": [
            "CPU times: user 333 ms, sys: 195 µs, total: 333 ms\n",
            "Wall time: 342 ms\n"
          ],
          "name": "stdout"
        }
      ]
    },
    {
      "cell_type": "code",
      "metadata": {
        "colab": {
          "base_uri": "https://localhost:8080/",
          "height": 216
        },
        "id": "r_HbcRwx0Vsh",
        "outputId": "48bb30ed-dd4d-4528-ab0f-a169d9e69506"
      },
      "source": [
        "# Dropping the unnecessary Columns\n",
        "train.drop(['date_of_game'], axis=1, inplace=True)\n",
        "train.head()"
      ],
      "execution_count": 43,
      "outputs": [
        {
          "output_type": "execute_result",
          "data": {
            "text/html": [
              "<div>\n",
              "<style scoped>\n",
              "    .dataframe tbody tr th:only-of-type {\n",
              "        vertical-align: middle;\n",
              "    }\n",
              "\n",
              "    .dataframe tbody tr th {\n",
              "        vertical-align: top;\n",
              "    }\n",
              "\n",
              "    .dataframe thead th {\n",
              "        text-align: right;\n",
              "    }\n",
              "</style>\n",
              "<table border=\"1\" class=\"dataframe\">\n",
              "  <thead>\n",
              "    <tr style=\"text-align: right;\">\n",
              "      <th></th>\n",
              "      <th>match_event_id</th>\n",
              "      <th>location_x</th>\n",
              "      <th>location_y</th>\n",
              "      <th>remaining_min</th>\n",
              "      <th>power_of_shot</th>\n",
              "      <th>knockout_match</th>\n",
              "      <th>game_season</th>\n",
              "      <th>remaining_sec</th>\n",
              "      <th>distance_of_shot</th>\n",
              "      <th>is_goal</th>\n",
              "      <th>area_of_shot</th>\n",
              "      <th>shot_basics</th>\n",
              "      <th>range_of_shot</th>\n",
              "      <th>team_name</th>\n",
              "      <th>home/away</th>\n",
              "      <th>shot_id_number</th>\n",
              "      <th>lat/lng</th>\n",
              "      <th>type_of_shot</th>\n",
              "      <th>type_of_combined_shot</th>\n",
              "      <th>match_id</th>\n",
              "      <th>team_id</th>\n",
              "    </tr>\n",
              "  </thead>\n",
              "  <tbody>\n",
              "    <tr>\n",
              "      <th>0</th>\n",
              "      <td>12.0</td>\n",
              "      <td>-157.0</td>\n",
              "      <td>0.0</td>\n",
              "      <td>10.0</td>\n",
              "      <td>1.0</td>\n",
              "      <td>0.0</td>\n",
              "      <td>0</td>\n",
              "      <td>22.0</td>\n",
              "      <td>35.0</td>\n",
              "      <td>0.0</td>\n",
              "      <td>0</td>\n",
              "      <td>0</td>\n",
              "      <td>0</td>\n",
              "      <td>0</td>\n",
              "      <td>0</td>\n",
              "      <td>2</td>\n",
              "      <td>0</td>\n",
              "      <td>0</td>\n",
              "      <td>0</td>\n",
              "      <td>20000012</td>\n",
              "      <td>1610612747</td>\n",
              "    </tr>\n",
              "    <tr>\n",
              "      <th>1</th>\n",
              "      <td>35.0</td>\n",
              "      <td>-101.0</td>\n",
              "      <td>135.0</td>\n",
              "      <td>7.0</td>\n",
              "      <td>1.0</td>\n",
              "      <td>0.0</td>\n",
              "      <td>0</td>\n",
              "      <td>45.0</td>\n",
              "      <td>36.0</td>\n",
              "      <td>1.0</td>\n",
              "      <td>1</td>\n",
              "      <td>0</td>\n",
              "      <td>1</td>\n",
              "      <td>0</td>\n",
              "      <td>0</td>\n",
              "      <td>3</td>\n",
              "      <td>0</td>\n",
              "      <td>1</td>\n",
              "      <td>0</td>\n",
              "      <td>20000012</td>\n",
              "      <td>1610612747</td>\n",
              "    </tr>\n",
              "    <tr>\n",
              "      <th>2</th>\n",
              "      <td>43.0</td>\n",
              "      <td>138.0</td>\n",
              "      <td>175.0</td>\n",
              "      <td>6.0</td>\n",
              "      <td>1.0</td>\n",
              "      <td>0.0</td>\n",
              "      <td>0</td>\n",
              "      <td>52.0</td>\n",
              "      <td>42.0</td>\n",
              "      <td>0.0</td>\n",
              "      <td>2</td>\n",
              "      <td>0</td>\n",
              "      <td>1</td>\n",
              "      <td>0</td>\n",
              "      <td>0</td>\n",
              "      <td>4</td>\n",
              "      <td>0</td>\n",
              "      <td>2</td>\n",
              "      <td>0</td>\n",
              "      <td>20000012</td>\n",
              "      <td>1610612747</td>\n",
              "    </tr>\n",
              "    <tr>\n",
              "      <th>3</th>\n",
              "      <td>155.0</td>\n",
              "      <td>0.0</td>\n",
              "      <td>0.0</td>\n",
              "      <td>6.0</td>\n",
              "      <td>2.0</td>\n",
              "      <td>0.0</td>\n",
              "      <td>0</td>\n",
              "      <td>19.0</td>\n",
              "      <td>20.0</td>\n",
              "      <td>1.0</td>\n",
              "      <td>3</td>\n",
              "      <td>1</td>\n",
              "      <td>2</td>\n",
              "      <td>0</td>\n",
              "      <td>0</td>\n",
              "      <td>5</td>\n",
              "      <td>0</td>\n",
              "      <td>2</td>\n",
              "      <td>1</td>\n",
              "      <td>20000012</td>\n",
              "      <td>1610612747</td>\n",
              "    </tr>\n",
              "    <tr>\n",
              "      <th>4</th>\n",
              "      <td>244.0</td>\n",
              "      <td>-145.0</td>\n",
              "      <td>-11.0</td>\n",
              "      <td>9.0</td>\n",
              "      <td>3.0</td>\n",
              "      <td>0.0</td>\n",
              "      <td>1</td>\n",
              "      <td>32.0</td>\n",
              "      <td>34.0</td>\n",
              "      <td>0.0</td>\n",
              "      <td>0</td>\n",
              "      <td>0</td>\n",
              "      <td>0</td>\n",
              "      <td>0</td>\n",
              "      <td>0</td>\n",
              "      <td>6</td>\n",
              "      <td>0</td>\n",
              "      <td>3</td>\n",
              "      <td>0</td>\n",
              "      <td>20000012</td>\n",
              "      <td>1610612747</td>\n",
              "    </tr>\n",
              "  </tbody>\n",
              "</table>\n",
              "</div>"
            ],
            "text/plain": [
              "   match_event_id  location_x  ...  match_id     team_id\n",
              "0            12.0      -157.0  ...  20000012  1610612747\n",
              "1            35.0      -101.0  ...  20000012  1610612747\n",
              "2            43.0       138.0  ...  20000012  1610612747\n",
              "3           155.0         0.0  ...  20000012  1610612747\n",
              "4           244.0      -145.0  ...  20000012  1610612747\n",
              "\n",
              "[5 rows x 21 columns]"
            ]
          },
          "metadata": {
            "tags": []
          },
          "execution_count": 43
        }
      ]
    },
    {
      "cell_type": "code",
      "metadata": {
        "colab": {
          "base_uri": "https://localhost:8080/",
          "height": 216
        },
        "id": "Jwg3vxVX0Vsi",
        "outputId": "4ab32cb9-a7b3-4eb1-e65f-8147dfd44436"
      },
      "source": [
        "test.drop(['date_of_game'], axis=1, inplace=True)\n",
        "test.head()"
      ],
      "execution_count": 44,
      "outputs": [
        {
          "output_type": "execute_result",
          "data": {
            "text/html": [
              "<div>\n",
              "<style scoped>\n",
              "    .dataframe tbody tr th:only-of-type {\n",
              "        vertical-align: middle;\n",
              "    }\n",
              "\n",
              "    .dataframe tbody tr th {\n",
              "        vertical-align: top;\n",
              "    }\n",
              "\n",
              "    .dataframe thead th {\n",
              "        text-align: right;\n",
              "    }\n",
              "</style>\n",
              "<table border=\"1\" class=\"dataframe\">\n",
              "  <thead>\n",
              "    <tr style=\"text-align: right;\">\n",
              "      <th></th>\n",
              "      <th>match_event_id</th>\n",
              "      <th>location_x</th>\n",
              "      <th>location_y</th>\n",
              "      <th>remaining_min</th>\n",
              "      <th>power_of_shot</th>\n",
              "      <th>knockout_match</th>\n",
              "      <th>game_season</th>\n",
              "      <th>remaining_sec</th>\n",
              "      <th>distance_of_shot</th>\n",
              "      <th>is_goal</th>\n",
              "      <th>area_of_shot</th>\n",
              "      <th>shot_basics</th>\n",
              "      <th>range_of_shot</th>\n",
              "      <th>team_name</th>\n",
              "      <th>home/away</th>\n",
              "      <th>shot_id_number</th>\n",
              "      <th>lat/lng</th>\n",
              "      <th>type_of_shot</th>\n",
              "      <th>type_of_combined_shot</th>\n",
              "      <th>match_id</th>\n",
              "      <th>team_id</th>\n",
              "    </tr>\n",
              "  </thead>\n",
              "  <tbody>\n",
              "    <tr>\n",
              "      <th>0</th>\n",
              "      <td>10.0</td>\n",
              "      <td>167.0</td>\n",
              "      <td>72.0</td>\n",
              "      <td>10.0</td>\n",
              "      <td>1.0</td>\n",
              "      <td>0.0</td>\n",
              "      <td>0</td>\n",
              "      <td>27.0</td>\n",
              "      <td>38.0</td>\n",
              "      <td>NaN</td>\n",
              "      <td>4</td>\n",
              "      <td>0</td>\n",
              "      <td>1</td>\n",
              "      <td>0</td>\n",
              "      <td>0</td>\n",
              "      <td>1</td>\n",
              "      <td>0</td>\n",
              "      <td>12</td>\n",
              "      <td>0</td>\n",
              "      <td>20000012</td>\n",
              "      <td>1610612747</td>\n",
              "    </tr>\n",
              "    <tr>\n",
              "      <th>1</th>\n",
              "      <td>254.0</td>\n",
              "      <td>1.0</td>\n",
              "      <td>28.0</td>\n",
              "      <td>8.0</td>\n",
              "      <td>3.0</td>\n",
              "      <td>0.0</td>\n",
              "      <td>0</td>\n",
              "      <td>5.0</td>\n",
              "      <td>22.0</td>\n",
              "      <td>NaN</td>\n",
              "      <td>3</td>\n",
              "      <td>1</td>\n",
              "      <td>2</td>\n",
              "      <td>0</td>\n",
              "      <td>0</td>\n",
              "      <td>8</td>\n",
              "      <td>0</td>\n",
              "      <td>6</td>\n",
              "      <td>0</td>\n",
              "      <td>20000012</td>\n",
              "      <td>1610612747</td>\n",
              "    </tr>\n",
              "    <tr>\n",
              "      <th>2</th>\n",
              "      <td>100.0</td>\n",
              "      <td>0.0</td>\n",
              "      <td>0.0</td>\n",
              "      <td>0.0</td>\n",
              "      <td>1.0</td>\n",
              "      <td>0.0</td>\n",
              "      <td>0</td>\n",
              "      <td>1.0</td>\n",
              "      <td>20.0</td>\n",
              "      <td>NaN</td>\n",
              "      <td>3</td>\n",
              "      <td>1</td>\n",
              "      <td>2</td>\n",
              "      <td>0</td>\n",
              "      <td>1</td>\n",
              "      <td>17</td>\n",
              "      <td>1</td>\n",
              "      <td>2</td>\n",
              "      <td>2</td>\n",
              "      <td>20000019</td>\n",
              "      <td>1610612747</td>\n",
              "    </tr>\n",
              "    <tr>\n",
              "      <th>3</th>\n",
              "      <td>249.0</td>\n",
              "      <td>0.0</td>\n",
              "      <td>0.0</td>\n",
              "      <td>10.0</td>\n",
              "      <td>3.0</td>\n",
              "      <td>0.0</td>\n",
              "      <td>1</td>\n",
              "      <td>46.0</td>\n",
              "      <td>20.0</td>\n",
              "      <td>NaN</td>\n",
              "      <td>3</td>\n",
              "      <td>1</td>\n",
              "      <td>2</td>\n",
              "      <td>0</td>\n",
              "      <td>1</td>\n",
              "      <td>20</td>\n",
              "      <td>1</td>\n",
              "      <td>11</td>\n",
              "      <td>0</td>\n",
              "      <td>20000019</td>\n",
              "      <td>1610612747</td>\n",
              "    </tr>\n",
              "    <tr>\n",
              "      <th>4</th>\n",
              "      <td>265.0</td>\n",
              "      <td>134.0</td>\n",
              "      <td>127.0</td>\n",
              "      <td>9.0</td>\n",
              "      <td>3.0</td>\n",
              "      <td>0.0</td>\n",
              "      <td>1</td>\n",
              "      <td>4.0</td>\n",
              "      <td>38.0</td>\n",
              "      <td>NaN</td>\n",
              "      <td>2</td>\n",
              "      <td>0</td>\n",
              "      <td>1</td>\n",
              "      <td>0</td>\n",
              "      <td>1</td>\n",
              "      <td>22</td>\n",
              "      <td>1</td>\n",
              "      <td>27</td>\n",
              "      <td>0</td>\n",
              "      <td>20000019</td>\n",
              "      <td>1610612747</td>\n",
              "    </tr>\n",
              "  </tbody>\n",
              "</table>\n",
              "</div>"
            ],
            "text/plain": [
              "   match_event_id  location_x  ...  match_id     team_id\n",
              "0            10.0       167.0  ...  20000012  1610612747\n",
              "1           254.0         1.0  ...  20000012  1610612747\n",
              "2           100.0         0.0  ...  20000019  1610612747\n",
              "3           249.0         0.0  ...  20000019  1610612747\n",
              "4           265.0       134.0  ...  20000019  1610612747\n",
              "\n",
              "[5 rows x 21 columns]"
            ]
          },
          "metadata": {
            "tags": []
          },
          "execution_count": 44
        }
      ]
    },
    {
      "cell_type": "code",
      "metadata": {
        "colab": {
          "base_uri": "https://localhost:8080/"
        },
        "id": "m2Du_NQZ0Vsi",
        "outputId": "65faee2b-85d8-4a52-99a4-10d6305c9d83"
      },
      "source": [
        "# Splliting the Target Column from the Dataset\n",
        "y = train.is_goal\n",
        "y.head()"
      ],
      "execution_count": 45,
      "outputs": [
        {
          "output_type": "execute_result",
          "data": {
            "text/plain": [
              "0    0.0\n",
              "1    1.0\n",
              "2    0.0\n",
              "3    1.0\n",
              "4    0.0\n",
              "Name: is_goal, dtype: float64"
            ]
          },
          "metadata": {
            "tags": []
          },
          "execution_count": 45
        }
      ]
    },
    {
      "cell_type": "code",
      "metadata": {
        "colab": {
          "base_uri": "https://localhost:8080/",
          "height": 216
        },
        "id": "G6p7sYeT0Vsi",
        "outputId": "2b547803-2f29-48f0-f1c8-0db4f0f8e63e"
      },
      "source": [
        "train.drop(['is_goal'], axis=1, inplace=True)\n",
        "train.head()\n"
      ],
      "execution_count": 46,
      "outputs": [
        {
          "output_type": "execute_result",
          "data": {
            "text/html": [
              "<div>\n",
              "<style scoped>\n",
              "    .dataframe tbody tr th:only-of-type {\n",
              "        vertical-align: middle;\n",
              "    }\n",
              "\n",
              "    .dataframe tbody tr th {\n",
              "        vertical-align: top;\n",
              "    }\n",
              "\n",
              "    .dataframe thead th {\n",
              "        text-align: right;\n",
              "    }\n",
              "</style>\n",
              "<table border=\"1\" class=\"dataframe\">\n",
              "  <thead>\n",
              "    <tr style=\"text-align: right;\">\n",
              "      <th></th>\n",
              "      <th>match_event_id</th>\n",
              "      <th>location_x</th>\n",
              "      <th>location_y</th>\n",
              "      <th>remaining_min</th>\n",
              "      <th>power_of_shot</th>\n",
              "      <th>knockout_match</th>\n",
              "      <th>game_season</th>\n",
              "      <th>remaining_sec</th>\n",
              "      <th>distance_of_shot</th>\n",
              "      <th>area_of_shot</th>\n",
              "      <th>shot_basics</th>\n",
              "      <th>range_of_shot</th>\n",
              "      <th>team_name</th>\n",
              "      <th>home/away</th>\n",
              "      <th>shot_id_number</th>\n",
              "      <th>lat/lng</th>\n",
              "      <th>type_of_shot</th>\n",
              "      <th>type_of_combined_shot</th>\n",
              "      <th>match_id</th>\n",
              "      <th>team_id</th>\n",
              "    </tr>\n",
              "  </thead>\n",
              "  <tbody>\n",
              "    <tr>\n",
              "      <th>0</th>\n",
              "      <td>12.0</td>\n",
              "      <td>-157.0</td>\n",
              "      <td>0.0</td>\n",
              "      <td>10.0</td>\n",
              "      <td>1.0</td>\n",
              "      <td>0.0</td>\n",
              "      <td>0</td>\n",
              "      <td>22.0</td>\n",
              "      <td>35.0</td>\n",
              "      <td>0</td>\n",
              "      <td>0</td>\n",
              "      <td>0</td>\n",
              "      <td>0</td>\n",
              "      <td>0</td>\n",
              "      <td>2</td>\n",
              "      <td>0</td>\n",
              "      <td>0</td>\n",
              "      <td>0</td>\n",
              "      <td>20000012</td>\n",
              "      <td>1610612747</td>\n",
              "    </tr>\n",
              "    <tr>\n",
              "      <th>1</th>\n",
              "      <td>35.0</td>\n",
              "      <td>-101.0</td>\n",
              "      <td>135.0</td>\n",
              "      <td>7.0</td>\n",
              "      <td>1.0</td>\n",
              "      <td>0.0</td>\n",
              "      <td>0</td>\n",
              "      <td>45.0</td>\n",
              "      <td>36.0</td>\n",
              "      <td>1</td>\n",
              "      <td>0</td>\n",
              "      <td>1</td>\n",
              "      <td>0</td>\n",
              "      <td>0</td>\n",
              "      <td>3</td>\n",
              "      <td>0</td>\n",
              "      <td>1</td>\n",
              "      <td>0</td>\n",
              "      <td>20000012</td>\n",
              "      <td>1610612747</td>\n",
              "    </tr>\n",
              "    <tr>\n",
              "      <th>2</th>\n",
              "      <td>43.0</td>\n",
              "      <td>138.0</td>\n",
              "      <td>175.0</td>\n",
              "      <td>6.0</td>\n",
              "      <td>1.0</td>\n",
              "      <td>0.0</td>\n",
              "      <td>0</td>\n",
              "      <td>52.0</td>\n",
              "      <td>42.0</td>\n",
              "      <td>2</td>\n",
              "      <td>0</td>\n",
              "      <td>1</td>\n",
              "      <td>0</td>\n",
              "      <td>0</td>\n",
              "      <td>4</td>\n",
              "      <td>0</td>\n",
              "      <td>2</td>\n",
              "      <td>0</td>\n",
              "      <td>20000012</td>\n",
              "      <td>1610612747</td>\n",
              "    </tr>\n",
              "    <tr>\n",
              "      <th>3</th>\n",
              "      <td>155.0</td>\n",
              "      <td>0.0</td>\n",
              "      <td>0.0</td>\n",
              "      <td>6.0</td>\n",
              "      <td>2.0</td>\n",
              "      <td>0.0</td>\n",
              "      <td>0</td>\n",
              "      <td>19.0</td>\n",
              "      <td>20.0</td>\n",
              "      <td>3</td>\n",
              "      <td>1</td>\n",
              "      <td>2</td>\n",
              "      <td>0</td>\n",
              "      <td>0</td>\n",
              "      <td>5</td>\n",
              "      <td>0</td>\n",
              "      <td>2</td>\n",
              "      <td>1</td>\n",
              "      <td>20000012</td>\n",
              "      <td>1610612747</td>\n",
              "    </tr>\n",
              "    <tr>\n",
              "      <th>4</th>\n",
              "      <td>244.0</td>\n",
              "      <td>-145.0</td>\n",
              "      <td>-11.0</td>\n",
              "      <td>9.0</td>\n",
              "      <td>3.0</td>\n",
              "      <td>0.0</td>\n",
              "      <td>1</td>\n",
              "      <td>32.0</td>\n",
              "      <td>34.0</td>\n",
              "      <td>0</td>\n",
              "      <td>0</td>\n",
              "      <td>0</td>\n",
              "      <td>0</td>\n",
              "      <td>0</td>\n",
              "      <td>6</td>\n",
              "      <td>0</td>\n",
              "      <td>3</td>\n",
              "      <td>0</td>\n",
              "      <td>20000012</td>\n",
              "      <td>1610612747</td>\n",
              "    </tr>\n",
              "  </tbody>\n",
              "</table>\n",
              "</div>"
            ],
            "text/plain": [
              "   match_event_id  location_x  ...  match_id     team_id\n",
              "0            12.0      -157.0  ...  20000012  1610612747\n",
              "1            35.0      -101.0  ...  20000012  1610612747\n",
              "2            43.0       138.0  ...  20000012  1610612747\n",
              "3           155.0         0.0  ...  20000012  1610612747\n",
              "4           244.0      -145.0  ...  20000012  1610612747\n",
              "\n",
              "[5 rows x 20 columns]"
            ]
          },
          "metadata": {
            "tags": []
          },
          "execution_count": 46
        }
      ]
    },
    {
      "cell_type": "code",
      "metadata": {
        "colab": {
          "base_uri": "https://localhost:8080/",
          "height": 216
        },
        "id": "mF8or1fp0Vsi",
        "outputId": "c3777313-a510-45f7-c06d-97355bf1f273"
      },
      "source": [
        "test.drop(['is_goal'], axis=1, inplace=True)\n",
        "test.head()"
      ],
      "execution_count": 47,
      "outputs": [
        {
          "output_type": "execute_result",
          "data": {
            "text/html": [
              "<div>\n",
              "<style scoped>\n",
              "    .dataframe tbody tr th:only-of-type {\n",
              "        vertical-align: middle;\n",
              "    }\n",
              "\n",
              "    .dataframe tbody tr th {\n",
              "        vertical-align: top;\n",
              "    }\n",
              "\n",
              "    .dataframe thead th {\n",
              "        text-align: right;\n",
              "    }\n",
              "</style>\n",
              "<table border=\"1\" class=\"dataframe\">\n",
              "  <thead>\n",
              "    <tr style=\"text-align: right;\">\n",
              "      <th></th>\n",
              "      <th>match_event_id</th>\n",
              "      <th>location_x</th>\n",
              "      <th>location_y</th>\n",
              "      <th>remaining_min</th>\n",
              "      <th>power_of_shot</th>\n",
              "      <th>knockout_match</th>\n",
              "      <th>game_season</th>\n",
              "      <th>remaining_sec</th>\n",
              "      <th>distance_of_shot</th>\n",
              "      <th>area_of_shot</th>\n",
              "      <th>shot_basics</th>\n",
              "      <th>range_of_shot</th>\n",
              "      <th>team_name</th>\n",
              "      <th>home/away</th>\n",
              "      <th>shot_id_number</th>\n",
              "      <th>lat/lng</th>\n",
              "      <th>type_of_shot</th>\n",
              "      <th>type_of_combined_shot</th>\n",
              "      <th>match_id</th>\n",
              "      <th>team_id</th>\n",
              "    </tr>\n",
              "  </thead>\n",
              "  <tbody>\n",
              "    <tr>\n",
              "      <th>0</th>\n",
              "      <td>10.0</td>\n",
              "      <td>167.0</td>\n",
              "      <td>72.0</td>\n",
              "      <td>10.0</td>\n",
              "      <td>1.0</td>\n",
              "      <td>0.0</td>\n",
              "      <td>0</td>\n",
              "      <td>27.0</td>\n",
              "      <td>38.0</td>\n",
              "      <td>4</td>\n",
              "      <td>0</td>\n",
              "      <td>1</td>\n",
              "      <td>0</td>\n",
              "      <td>0</td>\n",
              "      <td>1</td>\n",
              "      <td>0</td>\n",
              "      <td>12</td>\n",
              "      <td>0</td>\n",
              "      <td>20000012</td>\n",
              "      <td>1610612747</td>\n",
              "    </tr>\n",
              "    <tr>\n",
              "      <th>1</th>\n",
              "      <td>254.0</td>\n",
              "      <td>1.0</td>\n",
              "      <td>28.0</td>\n",
              "      <td>8.0</td>\n",
              "      <td>3.0</td>\n",
              "      <td>0.0</td>\n",
              "      <td>0</td>\n",
              "      <td>5.0</td>\n",
              "      <td>22.0</td>\n",
              "      <td>3</td>\n",
              "      <td>1</td>\n",
              "      <td>2</td>\n",
              "      <td>0</td>\n",
              "      <td>0</td>\n",
              "      <td>8</td>\n",
              "      <td>0</td>\n",
              "      <td>6</td>\n",
              "      <td>0</td>\n",
              "      <td>20000012</td>\n",
              "      <td>1610612747</td>\n",
              "    </tr>\n",
              "    <tr>\n",
              "      <th>2</th>\n",
              "      <td>100.0</td>\n",
              "      <td>0.0</td>\n",
              "      <td>0.0</td>\n",
              "      <td>0.0</td>\n",
              "      <td>1.0</td>\n",
              "      <td>0.0</td>\n",
              "      <td>0</td>\n",
              "      <td>1.0</td>\n",
              "      <td>20.0</td>\n",
              "      <td>3</td>\n",
              "      <td>1</td>\n",
              "      <td>2</td>\n",
              "      <td>0</td>\n",
              "      <td>1</td>\n",
              "      <td>17</td>\n",
              "      <td>1</td>\n",
              "      <td>2</td>\n",
              "      <td>2</td>\n",
              "      <td>20000019</td>\n",
              "      <td>1610612747</td>\n",
              "    </tr>\n",
              "    <tr>\n",
              "      <th>3</th>\n",
              "      <td>249.0</td>\n",
              "      <td>0.0</td>\n",
              "      <td>0.0</td>\n",
              "      <td>10.0</td>\n",
              "      <td>3.0</td>\n",
              "      <td>0.0</td>\n",
              "      <td>1</td>\n",
              "      <td>46.0</td>\n",
              "      <td>20.0</td>\n",
              "      <td>3</td>\n",
              "      <td>1</td>\n",
              "      <td>2</td>\n",
              "      <td>0</td>\n",
              "      <td>1</td>\n",
              "      <td>20</td>\n",
              "      <td>1</td>\n",
              "      <td>11</td>\n",
              "      <td>0</td>\n",
              "      <td>20000019</td>\n",
              "      <td>1610612747</td>\n",
              "    </tr>\n",
              "    <tr>\n",
              "      <th>4</th>\n",
              "      <td>265.0</td>\n",
              "      <td>134.0</td>\n",
              "      <td>127.0</td>\n",
              "      <td>9.0</td>\n",
              "      <td>3.0</td>\n",
              "      <td>0.0</td>\n",
              "      <td>1</td>\n",
              "      <td>4.0</td>\n",
              "      <td>38.0</td>\n",
              "      <td>2</td>\n",
              "      <td>0</td>\n",
              "      <td>1</td>\n",
              "      <td>0</td>\n",
              "      <td>1</td>\n",
              "      <td>22</td>\n",
              "      <td>1</td>\n",
              "      <td>27</td>\n",
              "      <td>0</td>\n",
              "      <td>20000019</td>\n",
              "      <td>1610612747</td>\n",
              "    </tr>\n",
              "  </tbody>\n",
              "</table>\n",
              "</div>"
            ],
            "text/plain": [
              "   match_event_id  location_x  ...  match_id     team_id\n",
              "0            10.0       167.0  ...  20000012  1610612747\n",
              "1           254.0         1.0  ...  20000012  1610612747\n",
              "2           100.0         0.0  ...  20000019  1610612747\n",
              "3           249.0         0.0  ...  20000019  1610612747\n",
              "4           265.0       134.0  ...  20000019  1610612747\n",
              "\n",
              "[5 rows x 20 columns]"
            ]
          },
          "metadata": {
            "tags": []
          },
          "execution_count": 47
        }
      ]
    },
    {
      "cell_type": "code",
      "metadata": {
        "colab": {
          "base_uri": "https://localhost:8080/"
        },
        "id": "VLD-_2Nk0Vsi",
        "outputId": "46fb9d10-9f3c-4619-b13b-e857e3ccb119"
      },
      "source": [
        "train.info() # we have converted all the categorical columns to numeric ones"
      ],
      "execution_count": 48,
      "outputs": [
        {
          "output_type": "stream",
          "text": [
            "<class 'pandas.core.frame.DataFrame'>\n",
            "Int64Index: 24429 entries, 0 to 24428\n",
            "Data columns (total 20 columns):\n",
            " #   Column                 Non-Null Count  Dtype  \n",
            "---  ------                 --------------  -----  \n",
            " 0   match_event_id         24429 non-null  float64\n",
            " 1   location_x             24429 non-null  float64\n",
            " 2   location_y             24429 non-null  float64\n",
            " 3   remaining_min          24429 non-null  float64\n",
            " 4   power_of_shot          24429 non-null  float64\n",
            " 5   knockout_match         24429 non-null  float64\n",
            " 6   game_season            24429 non-null  int64  \n",
            " 7   remaining_sec          24429 non-null  float64\n",
            " 8   distance_of_shot       24429 non-null  float64\n",
            " 9   area_of_shot           24429 non-null  int64  \n",
            " 10  shot_basics            24429 non-null  int64  \n",
            " 11  range_of_shot          24429 non-null  int64  \n",
            " 12  team_name              24429 non-null  int64  \n",
            " 13  home/away              24429 non-null  int64  \n",
            " 14  shot_id_number         24429 non-null  int64  \n",
            " 15  lat/lng                24429 non-null  int64  \n",
            " 16  type_of_shot           24429 non-null  int64  \n",
            " 17  type_of_combined_shot  24429 non-null  int64  \n",
            " 18  match_id               24429 non-null  int64  \n",
            " 19  team_id                24429 non-null  int64  \n",
            "dtypes: float64(8), int64(12)\n",
            "memory usage: 3.9 MB\n"
          ],
          "name": "stdout"
        }
      ]
    },
    {
      "cell_type": "code",
      "metadata": {
        "colab": {
          "base_uri": "https://localhost:8080/"
        },
        "id": "evyKEgBA0Vsi",
        "outputId": "cb7d462f-bab2-4a6c-ae92-84fc365d3562"
      },
      "source": [
        "train.isna().sum() # we have don't have any missing values as well. Our data is ready to be fed to a machine learning model."
      ],
      "execution_count": 49,
      "outputs": [
        {
          "output_type": "execute_result",
          "data": {
            "text/plain": [
              "match_event_id           0\n",
              "location_x               0\n",
              "location_y               0\n",
              "remaining_min            0\n",
              "power_of_shot            0\n",
              "knockout_match           0\n",
              "game_season              0\n",
              "remaining_sec            0\n",
              "distance_of_shot         0\n",
              "area_of_shot             0\n",
              "shot_basics              0\n",
              "range_of_shot            0\n",
              "team_name                0\n",
              "home/away                0\n",
              "shot_id_number           0\n",
              "lat/lng                  0\n",
              "type_of_shot             0\n",
              "type_of_combined_shot    0\n",
              "match_id                 0\n",
              "team_id                  0\n",
              "dtype: int64"
            ]
          },
          "metadata": {
            "tags": []
          },
          "execution_count": 49
        }
      ]
    },
    {
      "cell_type": "code",
      "metadata": {
        "id": "onmJgVtq0Vsj"
      },
      "source": [
        ""
      ],
      "execution_count": 49,
      "outputs": []
    }
  ]
}